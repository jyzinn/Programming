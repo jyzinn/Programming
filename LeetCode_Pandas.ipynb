{
 "cells": [
  {
   "cell_type": "markdown",
   "id": "1549f209-bbe3-4392-ad08-e6136f25d93c",
   "metadata": {
    "jp-MarkdownHeadingCollapsed": true,
    "tags": []
   },
   "source": [
    "# 2024-05-19"
   ]
  },
  {
   "cell_type": "markdown",
   "id": "7ff46631-5aeb-4414-9d64-2f59699a1ff6",
   "metadata": {
    "tags": []
   },
   "source": [
    "## 1378. Replace Employee ID With The Unique Identifier"
   ]
  },
  {
   "cell_type": "code",
   "execution_count": null,
   "id": "c0ff4685-e575-4b92-b8ec-dde45430c93f",
   "metadata": {},
   "outputs": [],
   "source": [
    "import pandas as pd\n",
    "\n",
    "def replace_employee_id(employees: pd.DataFrame, employee_uni: pd.DataFrame) -> pd.DataFrame:\n",
    "    result = pd.merge(employee_uni, employees, how='right', on='id').drop('id', axis=1)\n",
    "    return result"
   ]
  },
  {
   "cell_type": "markdown",
   "id": "19dd2803-d855-4e6d-9b7a-bb58d70bc8b1",
   "metadata": {},
   "source": [
    "# 2024-05-20"
   ]
  },
  {
   "cell_type": "markdown",
   "id": "6f0ae25b-1d97-4ed3-954d-cb51d107623e",
   "metadata": {},
   "source": [
    "## 1407. Top Travellers"
   ]
  },
  {
   "cell_type": "code",
   "execution_count": null,
   "id": "9b541e72-9102-4f0a-8547-8c98a96ce832",
   "metadata": {},
   "outputs": [],
   "source": [
    "import pandas as pd\n",
    "\n",
    "def top_travellers(users: pd.DataFrame, rides: pd.DataFrame) -> pd.DataFrame:\n",
    "    # user별 총 주행 거리 계산\n",
    "    total_distance  = rides.groupby('user_id')['distance'].sum().reset_index()\n",
    "    \n",
    "    # merge하여 user 정보와 총 주행 거리를 포함하는 df 생성\n",
    "    merged = pd.merge(users, total_distance, left_on='id', right_on='user_id', how='left')[['name', 'distance']]\n",
    "    \n",
    "    # NaN을 0으로 대체하고 문제에서 제시한 기준대로 정렬\n",
    "    result = merged.fillna(0).sort_values(by=['distance', 'name'], ascending=[False, True])\n",
    "    \n",
    "    result.rename(columns={'distance': 'travelled_distance'}, inplace=True)\n",
    "    return result"
   ]
  }
 ],
 "metadata": {
  "kernelspec": {
   "display_name": "self1",
   "language": "python",
   "name": "self1"
  },
  "language_info": {
   "codemirror_mode": {
    "name": "ipython",
    "version": 3
   },
   "file_extension": ".py",
   "mimetype": "text/x-python",
   "name": "python",
   "nbconvert_exporter": "python",
   "pygments_lexer": "ipython3",
   "version": "3.7.16"
  }
 },
 "nbformat": 4,
 "nbformat_minor": 5
}
