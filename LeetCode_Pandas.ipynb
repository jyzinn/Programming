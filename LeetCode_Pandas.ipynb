{
 "cells": [
  {
   "cell_type": "markdown",
   "id": "1549f209-bbe3-4392-ad08-e6136f25d93c",
   "metadata": {},
   "source": [
    "# 2024-05-19"
   ]
  },
  {
   "cell_type": "markdown",
   "id": "7ff46631-5aeb-4414-9d64-2f59699a1ff6",
   "metadata": {},
   "source": [
    "## 1378. Replace Employee ID With The Unique Identifier"
   ]
  },
  {
   "cell_type": "code",
   "execution_count": null,
   "id": "c0ff4685-e575-4b92-b8ec-dde45430c93f",
   "metadata": {},
   "outputs": [],
   "source": [
    "import pandas as pd\n",
    "\n",
    "def replace_employee_id(employees: pd.DataFrame, employee_uni: pd.DataFrame) -> pd.DataFrame:\n",
    "    result = pd.merge(employee_uni, employees, how='right', on='id').drop('id', axis=1)\n",
    "    return result"
   ]
  }
 ],
 "metadata": {
  "kernelspec": {
   "display_name": "self1",
   "language": "python",
   "name": "self1"
  },
  "language_info": {
   "codemirror_mode": {
    "name": "ipython",
    "version": 3
   },
   "file_extension": ".py",
   "mimetype": "text/x-python",
   "name": "python",
   "nbconvert_exporter": "python",
   "pygments_lexer": "ipython3",
   "version": "3.7.16"
  }
 },
 "nbformat": 4,
 "nbformat_minor": 5
}
