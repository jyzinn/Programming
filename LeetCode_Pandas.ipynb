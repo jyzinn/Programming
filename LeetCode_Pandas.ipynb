{
 "cells": [
  {
   "cell_type": "markdown",
   "id": "1549f209-bbe3-4392-ad08-e6136f25d93c",
   "metadata": {
    "jp-MarkdownHeadingCollapsed": true,
    "tags": []
   },
   "source": [
    "# 2024-05-19"
   ]
  },
  {
   "cell_type": "markdown",
   "id": "7ff46631-5aeb-4414-9d64-2f59699a1ff6",
   "metadata": {
    "tags": []
   },
   "source": [
    "## 1378. Replace Employee ID With The Unique Identifier"
   ]
  },
  {
   "cell_type": "code",
   "execution_count": null,
   "id": "c0ff4685-e575-4b92-b8ec-dde45430c93f",
   "metadata": {},
   "outputs": [],
   "source": [
    "import pandas as pd\n",
    "\n",
    "def replace_employee_id(employees: pd.DataFrame, employee_uni: pd.DataFrame) -> pd.DataFrame:\n",
    "    result = pd.merge(employee_uni, employees, how='right', on='id').drop('id', axis=1)\n",
    "    return result"
   ]
  },
  {
   "cell_type": "markdown",
   "id": "19dd2803-d855-4e6d-9b7a-bb58d70bc8b1",
   "metadata": {
    "jp-MarkdownHeadingCollapsed": true,
    "tags": []
   },
   "source": [
    "# 2024-05-20"
   ]
  },
  {
   "cell_type": "markdown",
   "id": "6f0ae25b-1d97-4ed3-954d-cb51d107623e",
   "metadata": {},
   "source": [
    "## 1407. Top Travellers"
   ]
  },
  {
   "cell_type": "code",
   "execution_count": null,
   "id": "9b541e72-9102-4f0a-8547-8c98a96ce832",
   "metadata": {},
   "outputs": [],
   "source": [
    "import pandas as pd\n",
    "\n",
    "def top_travellers(users: pd.DataFrame, rides: pd.DataFrame) -> pd.DataFrame:\n",
    "    # user별 총 주행 거리 계산\n",
    "    total_distance  = rides.groupby('user_id')['distance'].sum().reset_index()\n",
    "    \n",
    "    # merge하여 user 정보와 총 주행 거리를 포함하는 df 생성\n",
    "    merged = pd.merge(users, total_distance, left_on='id', right_on='user_id', how='left')[['name', 'distance']]\n",
    "    \n",
    "    # NaN을 0으로 대체하고 문제에서 제시한 기준대로 정렬\n",
    "    result = merged.fillna(0).sort_values(by=['distance', 'name'], ascending=[False, True])\n",
    "    \n",
    "    result.rename(columns={'distance': 'travelled_distance'}, inplace=True)\n",
    "    return result"
   ]
  },
  {
   "cell_type": "markdown",
   "id": "e9bc7610-a0fc-41b7-b178-b4151d203476",
   "metadata": {
    "jp-MarkdownHeadingCollapsed": true,
    "tags": []
   },
   "source": [
    "# 2024-05-21"
   ]
  },
  {
   "cell_type": "markdown",
   "id": "dfade0d1-bc1b-478b-8f73-cc7852e60b97",
   "metadata": {},
   "source": [
    "## 1484. Group Sold Products By The Date"
   ]
  },
  {
   "cell_type": "code",
   "execution_count": null,
   "id": "8b94ed62-6ecd-46ef-a835-38186ff1f87e",
   "metadata": {},
   "outputs": [],
   "source": [
    "import pandas as pd\n",
    "\n",
    "def categorize_products(activities: pd.DataFrame) -> pd.DataFrame:\n",
    "    result = activities.groupby('sell_date')['product'].agg(\n",
    "        # 고유 제품 수 계산\n",
    "        num_sold='nunique',\n",
    "        \n",
    "        # 고유 제품 목록을 ','로 구분한 문자쳘을 products column으로\n",
    "        products= lambda x: ','.join(sorted(x.unique()))).reset_index()\n",
    "    \n",
    "    return result"
   ]
  },
  {
   "cell_type": "markdown",
   "id": "7b495fef-ebf3-482b-a714-58a9a70e7bcd",
   "metadata": {
    "jp-MarkdownHeadingCollapsed": true,
    "tags": []
   },
   "source": [
    "# 2024-05-23"
   ]
  },
  {
   "cell_type": "markdown",
   "id": "4a85aaa4-987c-45e1-a031-62a28a43143b",
   "metadata": {},
   "source": [
    "## 1517. Find Users With Valid E-Mails"
   ]
  },
  {
   "cell_type": "code",
   "execution_count": null,
   "id": "5f13942f-df07-406d-9618-1620572829a3",
   "metadata": {},
   "outputs": [],
   "source": [
    "import pandas as pd\n",
    "\n",
    "# 1. ^: 문자열의 시작\n",
    "# 2. [A-Za-z]: 첫 번째 문자는 알파벳 대문자 또는 소문자\n",
    "# 3. [A-Za-z0-9_\\.\\-]*: 첫 번째 문자 다음에는 알파벳, 숫자, 밑줄, 점, 또는 하이픈이 0개 이상 올 수 음\n",
    "# 4. @: '@' 문자.\n",
    "# 5. leetcode: '@' 다음에는 반드시 'leetcode'라는 문자열이 와야함\n",
    "# 6. \\.com: 'leetcode' 다음에는 반드시 '.com'이 와야함. 점은 이스케이프 처리되어 문자 그대로의 점을 의미\n",
    "# 7. $: 문자열의 끝을 나타냄\n",
    "\n",
    "def valid_emails(users: pd.DataFrame) -> pd.DataFrame:\n",
    "    return users[users['mail'].str.match(r'^[A-Za-z][A-Za-z0-9_\\.\\-]*@leetcode\\.com$')]"
   ]
  },
  {
   "cell_type": "markdown",
   "id": "719c18bd-9562-41e8-95ee-a7161c4bc727",
   "metadata": {
    "jp-MarkdownHeadingCollapsed": true,
    "tags": []
   },
   "source": [
    "# 2024-06-19"
   ]
  },
  {
   "cell_type": "markdown",
   "id": "f9d022d8-1878-4052-bc8a-54f330ab3b41",
   "metadata": {},
   "source": [
    "## 1527. Patients With a Condition"
   ]
  },
  {
   "cell_type": "code",
   "execution_count": null,
   "id": "ebd7f23e-ca14-4813-b34a-26b528a77f4e",
   "metadata": {},
   "outputs": [],
   "source": [
    "import pandas as pd\n",
    "\n",
    "def find_patients(patients: pd.DataFrame) -> pd.DataFrame:\n",
    "    # 'conditions' 열에 'DIAB1' 단어가 포함된 행을 필터링\n",
    "    condition_filter = patients['conditions'].str.contains(r'\\bDIAB1')\n",
    "    \n",
    "    # 필터 조건을 만족하는 행들로 구성된 df 반환\n",
    "    return patients[condition_filter]"
   ]
  },
  {
   "cell_type": "markdown",
   "id": "34c080b3-d553-426d-abcc-166249f47739",
   "metadata": {
    "jp-MarkdownHeadingCollapsed": true,
    "tags": []
   },
   "source": [
    "# 2024-06-21"
   ]
  },
  {
   "cell_type": "markdown",
   "id": "7f64ee18-68bc-4829-bc06-65bade87dfad",
   "metadata": {},
   "source": [
    "## 1581. Customer Who Visited but Did Not Make Any Transactions"
   ]
  },
  {
   "cell_type": "code",
   "execution_count": null,
   "id": "9e20772f-d667-4c1a-9a30-8f7f4028bd0e",
   "metadata": {},
   "outputs": [],
   "source": [
    "import pandas as pd\n",
    "\n",
    "def find_customers(visits: pd.DataFrame, transactions: pd.DataFrame) -> pd.DataFrame:\n",
    "    # visit_id 기준 left join\n",
    "    merged = pd.merge(visits, transactions, on='visit_id', how='left')\n",
    "    \n",
    "    # transaction_id가 NaN(결측값)인 행만 필터링\n",
    "    filtered = merged.loc[merged['transaction_id'].isna()]\n",
    "    \n",
    "    # customer_id로 그룹화하여 각 고객의 방문 횟수(count_no_trans)를 계산하고 결과를 데이터프레임으로 반환\n",
    "    result = filtered.groupby('customer_id').size().reset_index(name='count_no_trans')\n",
    "    return result"
   ]
  },
  {
   "cell_type": "code",
   "execution_count": null,
   "id": "442a704f-9ad9-4e85-91d0-9452f9dc1b47",
   "metadata": {},
   "outputs": [],
   "source": [
    "import pandas as pd\n",
    "\n",
    "def find_customers(visits: pd.DataFrame, transactions: pd.DataFrame) -> pd.DataFrame:\n",
    "    # visit_id 기준 left join\n",
    "    merged = pd.merge(visits, transactions, on='visit_id', how='left')\n",
    "    \n",
    "    # transaction_id가 NaN(결측값)인 행만 필터링\n",
    "    filtered = merged.loc[merged['transaction_id'].isna()]\n",
    "    \n",
    "    # customer_id로 그룹화하고, 각 customer_id에 대한 visit_id의 개수를 계산하여 새로운 열 count_no_trans를 생성\n",
    "    result = filtered.groupby('customer_id', as_index=False).agg(count_no_trans=('visit_id','count'))\n",
    "    return result"
   ]
  },
  {
   "cell_type": "markdown",
   "id": "201b02f8-b5e7-415f-ada8-b4361a154df7",
   "metadata": {
    "jp-MarkdownHeadingCollapsed": true,
    "tags": []
   },
   "source": [
    "# 2024-07-30"
   ]
  },
  {
   "cell_type": "markdown",
   "id": "e259a1e1-e78a-4c26-bb4a-aa7597b338d1",
   "metadata": {},
   "source": [
    "## 1587. Bank Account Summary II"
   ]
  },
  {
   "cell_type": "code",
   "execution_count": null,
   "id": "d07d1476-bcb9-46b5-8372-ee083730427f",
   "metadata": {},
   "outputs": [],
   "source": [
    "import pandas as pd\n",
    "\n",
    "def account_summary(users: pd.DataFrame, transactions: pd.DataFrame) -> pd.DataFrame:\n",
    "    # account 열 기준으로 groupby 후 amount 열의 합을 balance 열로 집계\n",
    "    summary = transactions.groupby('account', as_index=False).agg(balance=('amount', 'sum'))\n",
    "    \n",
    "    # account 열 기준으로 users와 summary 병합\n",
    "    merged = pd.merge(users, summary, on='account', how='left')\n",
    "    \n",
    "    # balance가 10000 이상인 행만 필터링\n",
    "    filtered = merged.loc[merged['balance']>10000]\n",
    "    \n",
    "    # 출력 요구 형식에 맞추어 account 열 제외\n",
    "    result = filtered.drop('account', axis=1)\n",
    "    return result"
   ]
  },
  {
   "cell_type": "markdown",
   "id": "7fd153aa-a9f2-4e96-9691-e76a92608203",
   "metadata": {},
   "source": [
    "## 1633. Percentage of Users Attended a Contest"
   ]
  },
  {
   "cell_type": "code",
   "execution_count": null,
   "id": "5725f4ae-18d4-4d1b-85c1-4f30fab228fe",
   "metadata": {},
   "outputs": [],
   "source": [
    "import pandas as pd\n",
    "\n",
    "def users_percentage(users: pd.DataFrame, register: pd.DataFrame) -> pd.DataFrame:\n",
    "    # 전체 사용자 수 구하기\n",
    "    total_num = users['user_id'].nunique()\n",
    "    \n",
    "    # 각 contest_id 별 사용자 수 계산\n",
    "    summary = register.groupby('contest_id').size().reset_index(name='user_cnt')    \n",
    "    \n",
    "    # contest_id 별 percentage 계산\n",
    "    summary['percentage'] = summary['user_cnt'] / total_num * 100\n",
    "    \n",
    "    # 비율 내림차순, contest_id 오름차순 정렬 후 출력 요구 형식에 맞추어 round\n",
    "    result = summary[['contest_id', 'percentage']].sort_values(by=['percentage', 'contest_id'], ascending=[False, True]).round(2)\n",
    "    return result"
   ]
  },
  {
   "cell_type": "markdown",
   "id": "5d7477aa-a809-446f-bb46-1bdff6e56cd0",
   "metadata": {},
   "source": [
    "# 2024-07-31"
   ]
  },
  {
   "cell_type": "markdown",
   "id": "fdb60901-74bb-4d36-838b-229a9b19c466",
   "metadata": {},
   "source": [
    "## 1661. Average Time of Process per Machine"
   ]
  },
  {
   "cell_type": "code",
   "execution_count": null,
   "id": "1a3b8d7e-1ce5-481e-8b69-d8e22501e257",
   "metadata": {},
   "outputs": [],
   "source": [
    "import pandas as pd\n",
    "\n",
    "def get_average_time(activity: pd.DataFrame) -> pd.DataFrame:\n",
    "    # 'machine_id'를 기준으로 'activity' 데이터를 병합, 접미사로 구분\n",
    "    merged = pd.merge(activity, activity, on='machine_id', suffixes=('_start', '_end'))\n",
    "    \n",
    "    # 'start'와 'end'가 위치한 행 필터링\n",
    "    filtered = merged[(merged['activity_type_start'] == 'start') & (merged['activity_type_end'] == 'end')]\n",
    "     \n",
    "    # 'processing_time' 계산: 'timestamp_end'에서 'timestamp_start'를 뺌\n",
    "    filtered['processing_time'] = filtered['timestamp_end'] - filtered['timestamp_start']\n",
    "    \n",
    "    # 'machine_id'별 평균 'processing_time'을 계산하고 소수점 세 자리로 반올림\n",
    "    result = filtered.groupby('machine_id', as_index=False).agg(processing_time=('processing_time', 'mean')).round(3)\n",
    "    return result"
   ]
  },
  {
   "cell_type": "markdown",
   "id": "8a641ba9-96f3-497f-8995-81adb8dee70e",
   "metadata": {},
   "source": [
    "# 2024-08-01"
   ]
  },
  {
   "cell_type": "markdown",
   "id": "f8300bf9-d978-4001-be84-e5cf355da233",
   "metadata": {},
   "source": [
    "## 1667. Fix Names in a Table"
   ]
  },
  {
   "cell_type": "code",
   "execution_count": null,
   "id": "9669dd98-9660-4eac-855a-e37fd0fc5617",
   "metadata": {},
   "outputs": [],
   "source": [
    "import pandas as pd\n",
    "\n",
    "def fix_names(users: pd.DataFrame) -> pd.DataFrame:\n",
    "    # name 열 capitalize\n",
    "    users['name'] = users['name'].str.capitalize()\n",
    "    \n",
    "    # user_id 기준 정렬\n",
    "    result = users.sort_values('user_id')\n",
    "    return result"
   ]
  }
 ],
 "metadata": {
  "kernelspec": {
   "display_name": "self1",
   "language": "python",
   "name": "self1"
  },
  "language_info": {
   "codemirror_mode": {
    "name": "ipython",
    "version": 3
   },
   "file_extension": ".py",
   "mimetype": "text/x-python",
   "name": "python",
   "nbconvert_exporter": "python",
   "pygments_lexer": "ipython3",
   "version": "3.7.16"
  }
 },
 "nbformat": 4,
 "nbformat_minor": 5
}
