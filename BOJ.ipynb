{
 "cells": [
  {
   "cell_type": "markdown",
   "id": "c3e5d761-22a7-45ef-92da-811bce27ac23",
   "metadata": {},
   "source": [
    "# BOJ 2605. 줄 세우기"
   ]
  },
  {
   "cell_type": "code",
   "execution_count": null,
   "id": "71ae87c8-8a6f-461d-9d75-6965be2953df",
   "metadata": {},
   "outputs": [],
   "source": [
    "import sys\n",
    "input = sys.stdin.readline\n",
    "\n",
    "N = int(input())\n",
    "L = list(map(int, input().split()))\n",
    "\n",
    "nums = []\n",
    "for i in range(N):\n",
    "    nums.insert(L[i], i+1)\n",
    "    \n",
    "for num in nums[::-1]:\n",
    "    print(num, end=' ')"
   ]
  }
 ],
 "metadata": {
  "kernelspec": {
   "display_name": "self1",
   "language": "python",
   "name": "self1"
  },
  "language_info": {
   "codemirror_mode": {
    "name": "ipython",
    "version": 3
   },
   "file_extension": ".py",
   "mimetype": "text/x-python",
   "name": "python",
   "nbconvert_exporter": "python",
   "pygments_lexer": "ipython3",
   "version": "3.7.16"
  }
 },
 "nbformat": 4,
 "nbformat_minor": 5
}
