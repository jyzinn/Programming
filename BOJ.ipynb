{
 "cells": [
  {
   "cell_type": "markdown",
   "id": "d5c69036-7c0a-4c86-9bab-415d315a05d2",
   "metadata": {
    "tags": []
   },
   "source": [
    "# 2024-05-11"
   ]
  },
  {
   "cell_type": "markdown",
   "id": "c3e5d761-22a7-45ef-92da-811bce27ac23",
   "metadata": {},
   "source": [
    "## BOJ 2605번 줄 세우기"
   ]
  },
  {
   "cell_type": "code",
   "execution_count": null,
   "id": "71ae87c8-8a6f-461d-9d75-6965be2953df",
   "metadata": {},
   "outputs": [],
   "source": [
    "import sys\n",
    "input = sys.stdin.readline\n",
    "\n",
    "N = int(input())\n",
    "L = list(map(int, input().split()))\n",
    "\n",
    "nums = []\n",
    "for i in range(N):\n",
    "    nums.insert(L[i], i+1)\n",
    "    \n",
    "for num in nums[::-1]:\n",
    "    print(num, end=' ')"
   ]
  },
  {
   "cell_type": "markdown",
   "id": "7d80a1fc-ea87-4bef-a81a-8845bbf8846b",
   "metadata": {
    "tags": []
   },
   "source": [
    "## BOJ 1919번 애너그램 만들기"
   ]
  },
  {
   "cell_type": "code",
   "execution_count": null,
   "id": "8a818efb-8469-424d-bff8-3890c334411c",
   "metadata": {},
   "outputs": [],
   "source": [
    "A = input()\n",
    "B = input()\n",
    "\n",
    "alphabet = [0] * 26\n",
    "\n",
    "for a in A:\n",
    "    alphabet[ord(a) - ord('a')] += 1\n",
    "\n",
    "for b in B:\n",
    "    alphabet[ord(b) - ord('a')] -= 1\n",
    "    \n",
    "answer = sum(abs(cnt) for cnt in alphabet)\n",
    "\n",
    "print(answer)"
   ]
  },
  {
   "cell_type": "markdown",
   "id": "732f7bbc-2b6e-46be-b0c9-af414f4df3f6",
   "metadata": {},
   "source": [
    "## BOJ 11655번 ROT13"
   ]
  },
  {
   "cell_type": "code",
   "execution_count": null,
   "id": "2ed21faf-f7c7-4cc3-ad4b-b693498068f2",
   "metadata": {},
   "outputs": [],
   "source": [
    "S = input()\n",
    "answer = ''\n",
    "\n",
    "for char in S:\n",
    "    if 'a' <= char <= 'z':\n",
    "        answer += chr((ord(char) - ord('a') - 13) % 26 + ord('a'))\n",
    "    elif 'A' <= char <= 'Z':\n",
    "        answer += chr((ord(char) - ord('A') - 13) % 26 + ord('A'))\n",
    "    else:\n",
    "        answer += char\n",
    "        \n",
    "print(answer)"
   ]
  },
  {
   "cell_type": "markdown",
   "id": "2fb5efc0-2fe8-4a3b-82f4-a585c48b289d",
   "metadata": {
    "tags": []
   },
   "source": [
    "# 2024-05-12"
   ]
  },
  {
   "cell_type": "markdown",
   "id": "ae9e21fa-189c-480c-91ae-cbdad39a54be",
   "metadata": {
    "tags": []
   },
   "source": [
    "## BOJ 2592번 대표값"
   ]
  },
  {
   "cell_type": "code",
   "execution_count": null,
   "id": "9cdda16c-6fce-4e23-940c-9a59e8ae7fdd",
   "metadata": {},
   "outputs": [],
   "source": [
    "import sys\n",
    "input = sys.stdin.readline\n",
    "\n",
    "D = {}\n",
    "sum_of_inputs = 0\n",
    "\n",
    "for _ in range(10):\n",
    "    num = int(input())\n",
    "    sum_of_inputs += num  \n",
    "    D[num] = D.get(num, 0) + 1  \n",
    "\n",
    "max_value = max(D.values())\n",
    "mode_keys = [key for key, value in D.items() if value == max_value]\n",
    "  \n",
    "print(sum_of_inputs // 10)\n",
    "print(mode_keys[0])"
   ]
  },
  {
   "cell_type": "markdown",
   "id": "6e9ba7c6-6026-4a3d-bb12-d646f03c8a0d",
   "metadata": {},
   "source": [
    "## BOJ 10804번 카드 역배치"
   ]
  },
  {
   "cell_type": "code",
   "execution_count": null,
   "id": "732bd2a0-4ad6-49da-83a5-97de7de5d4be",
   "metadata": {},
   "outputs": [],
   "source": [
    "import sys\n",
    "input = sys.stdin.readline\n",
    "\n",
    "L = [i for i in range(1, 21)]\n",
    "\n",
    "for _ in range(10):\n",
    "    a, b = map(int, input().split())\n",
    "    L[a-1:b] = L[a-1:b][::-1]\n",
    "    \n",
    "print(*L)"
   ]
  },
  {
   "cell_type": "markdown",
   "id": "a2c9b675-ecf8-4344-929c-24e3dff0e3a2",
   "metadata": {},
   "source": [
    "## BOJ 1373번 2진수 8진수"
   ]
  },
  {
   "cell_type": "code",
   "execution_count": null,
   "id": "183f960e-a1da-4811-964d-497b4c05f6e2",
   "metadata": {},
   "outputs": [],
   "source": [
    "binary_input = int(input(), 2)\n",
    "print(oct(binary_input)[2:])"
   ]
  },
  {
   "cell_type": "markdown",
   "id": "d62b5ee5-c59f-48e6-a83b-97c9f17e461f",
   "metadata": {},
   "source": [
    "# 2024-05-13"
   ]
  },
  {
   "cell_type": "markdown",
   "id": "13b20dec-3aed-44e7-a1e7-af947816c9f3",
   "metadata": {},
   "source": [
    "## BOJ 6359번 만취한 상범"
   ]
  },
  {
   "cell_type": "code",
   "execution_count": null,
   "id": "3624667d-1365-411d-bd2e-f3098c302b64",
   "metadata": {},
   "outputs": [],
   "source": [
    "import sys\n",
    "input = sys.stdin.readline\n",
    "\n",
    "T = int(input())\n",
    "\n",
    "for _ in range(T):\n",
    "    n = int(input())\n",
    "    L = [0] * (n + 1)\n",
    "    \n",
    "    for i in range(1, n+1):\n",
    "        for j in range(i, n+1, i):\n",
    "            L[j] = 1 if L[j] == 0 else 0\n",
    "            \n",
    "    print(L.count(1))"
   ]
  },
  {
   "cell_type": "markdown",
   "id": "5c44d08c-ea17-4cc4-8f75-476f415f7d75",
   "metadata": {
    "tags": []
   },
   "source": [
    "## BOJ 5598번 카이사르 암호"
   ]
  },
  {
   "cell_type": "code",
   "execution_count": null,
   "id": "12177329-ac4b-4a52-90ea-3a5609df8d37",
   "metadata": {},
   "outputs": [],
   "source": [
    "S = input()\n",
    "answer = ''\n",
    "\n",
    "for char in S:\n",
    "    answer += chr((ord(char) - 3 - ord('A')) % 26 + ord('A'))\n",
    "\n",
    "print(answer)"
   ]
  },
  {
   "cell_type": "markdown",
   "id": "9149a257-980b-421b-bd34-72faf1043396",
   "metadata": {},
   "source": [
    "## BOJ 4796번 캠핑"
   ]
  },
  {
   "cell_type": "code",
   "execution_count": null,
   "id": "20324811-5cf6-45da-a48c-dfa251bcfe8a",
   "metadata": {},
   "outputs": [],
   "source": [
    "cnt = 1\n",
    "while True:\n",
    "    L, P, V = map(int, input().split())\n",
    "    if L == P == V == 0:\n",
    "        break\n",
    "    total_days = V // P * L\n",
    "    remaining_days = V % P\n",
    "    answer = total_days + min(L, remaining_days)\n",
    "    print(f'Case {cnt}: {answer}')\n",
    "    cnt += 1"
   ]
  },
  {
   "cell_type": "markdown",
   "id": "69ca9d3a-0146-4774-b9ab-4e51eeca74dd",
   "metadata": {},
   "source": [
    "# 2024-05-14"
   ]
  },
  {
   "cell_type": "markdown",
   "id": "059c4b6d-e8c0-43fc-bcfd-48e655dec184",
   "metadata": {},
   "source": [
    "## BOJ 2711번 오타맨 고창영"
   ]
  },
  {
   "cell_type": "code",
   "execution_count": null,
   "id": "28318eeb-2311-4839-8abe-5cbf3e995dd1",
   "metadata": {},
   "outputs": [],
   "source": [
    "import sys\n",
    "input = sys.stdin.readline\n",
    "\n",
    "T = int(input())\n",
    "\n",
    "for _ in range(T):\n",
    "    num, string = input().split()\n",
    "    num = int(num)\n",
    "    string = string[:num-1] + string[num:]\n",
    "    print(string)"
   ]
  },
  {
   "cell_type": "markdown",
   "id": "c157e4f6-a0cd-4568-a8a5-08cf406dc2fb",
   "metadata": {},
   "source": [
    "## BOJ 24416번 알고리즘 수업 - 피보나치 수 1"
   ]
  },
  {
   "cell_type": "code",
   "execution_count": null,
   "id": "1d71df1f-04fe-42e3-9238-4baacc0ec12a",
   "metadata": {},
   "outputs": [],
   "source": [
    "n = int(input())\n",
    "\n",
    "def fibonacci(n):\n",
    "    if n == 1 or n == 2:\n",
    "        return 1\n",
    "    a, b = 1, 1\n",
    "    \n",
    "    for _ in range(3, n + 1):\n",
    "        a, b = b, a + b\n",
    "    \n",
    "    return b\n",
    "\n",
    "result = fibonacci(n)\n",
    "print(result, n - 2)"
   ]
  },
  {
   "cell_type": "markdown",
   "id": "83f5dc53-c624-457d-acf2-197cf354ab73",
   "metadata": {},
   "source": [
    "## BOJ 4673번 셀프 넘버"
   ]
  },
  {
   "cell_type": "code",
   "execution_count": null,
   "id": "412c64d6-0097-4f2a-bcaa-804ae204db73",
   "metadata": {},
   "outputs": [],
   "source": [
    "L = [True] * 10001\n",
    "\n",
    "for i in range(1, 10001):\n",
    "    total = i\n",
    "    for digit in str(i):\n",
    "        total += int(digit)\n",
    "        \n",
    "    if total <= 10000:\n",
    "        L[total] = False\n",
    "\n",
    "for i in range(1, 10001):\n",
    "    if L[i]:\n",
    "        print(i)"
   ]
  },
  {
   "cell_type": "markdown",
   "id": "55c750d3-9857-4bb5-a79e-bf0d72eacda6",
   "metadata": {},
   "source": [
    "# 2024-05-15"
   ]
  },
  {
   "cell_type": "markdown",
   "id": "fe5f3619-18df-4e26-9ba3-7f03d7c908d2",
   "metadata": {},
   "source": [
    "## BOJ 10093번 숫자"
   ]
  },
  {
   "cell_type": "code",
   "execution_count": null,
   "id": "6ba92dab-3f66-4aa9-b724-686d29109016",
   "metadata": {},
   "outputs": [],
   "source": [
    "A, B = map(int, input().split())\n",
    "\n",
    "min_num = min(A, B)\n",
    "max_num = max(A, B)\n",
    "\n",
    "length = max_num - min_num - 1\n",
    "print(max(length, 0))\n",
    "\n",
    "for num in range(min_num + 1, max_num):\n",
    "    print(num, end=' ')"
   ]
  },
  {
   "cell_type": "markdown",
   "id": "58a7028d-a1b4-4cc3-8cff-cfa7820c296f",
   "metadata": {},
   "source": [
    "## BOJ 1357번 뒤집힌 덧셈"
   ]
  },
  {
   "cell_type": "code",
   "execution_count": null,
   "id": "b4c2999f-cc45-47d7-8ecc-e66a0a057e9d",
   "metadata": {},
   "outputs": [],
   "source": [
    "def rev(s):\n",
    "    return s[::-1]\n",
    "\n",
    "X, Y = input().split()\n",
    "rev_XY = int(rev(X)) + int(rev(Y))\n",
    "\n",
    "print(int(rev(str(rev_XY))))"
   ]
  },
  {
   "cell_type": "markdown",
   "id": "e0c386fc-0d3d-476b-a562-ef32888d9f70",
   "metadata": {},
   "source": [
    "## BOJ 7568번 덩치"
   ]
  },
  {
   "cell_type": "code",
   "execution_count": null,
   "id": "00da664a-364d-4f72-93bb-0406d6953b29",
   "metadata": {},
   "outputs": [],
   "source": [
    "import sys\n",
    "input = sys.stdin.readline\n",
    "\n",
    "N = int(input())\n",
    "L = []\n",
    "\n",
    "for _ in range(N):\n",
    "    x, y = map(int, input().split())\n",
    "    L.append((x, y))\n",
    "    \n",
    "for i in L:\n",
    "    rank = 1\n",
    "    for j in L:\n",
    "        if i[0] < j[0] and i[1] < j[1]:\n",
    "            rank += 1\n",
    "    print(rank, end=' ')"
   ]
  }
 ],
 "metadata": {
  "kernelspec": {
   "display_name": "self1",
   "language": "python",
   "name": "self1"
  },
  "language_info": {
   "codemirror_mode": {
    "name": "ipython",
    "version": 3
   },
   "file_extension": ".py",
   "mimetype": "text/x-python",
   "name": "python",
   "nbconvert_exporter": "python",
   "pygments_lexer": "ipython3",
   "version": "3.7.16"
  }
 },
 "nbformat": 4,
 "nbformat_minor": 5
}
