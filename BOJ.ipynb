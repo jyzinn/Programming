{
 "cells": [
  {
   "cell_type": "markdown",
   "id": "d5c69036-7c0a-4c86-9bab-415d315a05d2",
   "metadata": {
    "jp-MarkdownHeadingCollapsed": true,
    "tags": []
   },
   "source": [
    "# 2024-05-11"
   ]
  },
  {
   "cell_type": "markdown",
   "id": "c3e5d761-22a7-45ef-92da-811bce27ac23",
   "metadata": {},
   "source": [
    "## BOJ 2605번 줄 세우기"
   ]
  },
  {
   "cell_type": "code",
   "execution_count": null,
   "id": "71ae87c8-8a6f-461d-9d75-6965be2953df",
   "metadata": {},
   "outputs": [],
   "source": [
    "import sys\n",
    "input = sys.stdin.readline\n",
    "\n",
    "N = int(input())\n",
    "L = list(map(int, input().split()))\n",
    "\n",
    "nums = []\n",
    "for i in range(N):\n",
    "    nums.insert(L[i], i+1)\n",
    "    \n",
    "for num in nums[::-1]:\n",
    "    print(num, end=' ')"
   ]
  },
  {
   "cell_type": "markdown",
   "id": "7d80a1fc-ea87-4bef-a81a-8845bbf8846b",
   "metadata": {
    "tags": []
   },
   "source": [
    "## BOJ 1919번 애너그램 만들기"
   ]
  },
  {
   "cell_type": "code",
   "execution_count": null,
   "id": "8a818efb-8469-424d-bff8-3890c334411c",
   "metadata": {},
   "outputs": [],
   "source": [
    "A = input()\n",
    "B = input()\n",
    "\n",
    "alphabet = [0] * 26\n",
    "\n",
    "for a in A:\n",
    "    alphabet[ord(a) - ord('a')] += 1\n",
    "\n",
    "for b in B:\n",
    "    alphabet[ord(b) - ord('a')] -= 1\n",
    "    \n",
    "answer = sum(abs(cnt) for cnt in alphabet)\n",
    "\n",
    "print(answer)"
   ]
  },
  {
   "cell_type": "markdown",
   "id": "732f7bbc-2b6e-46be-b0c9-af414f4df3f6",
   "metadata": {},
   "source": [
    "## BOJ 11655번 ROT13"
   ]
  },
  {
   "cell_type": "code",
   "execution_count": null,
   "id": "2ed21faf-f7c7-4cc3-ad4b-b693498068f2",
   "metadata": {},
   "outputs": [],
   "source": [
    "S = input()\n",
    "answer = ''\n",
    "\n",
    "for char in S:\n",
    "    if 'a' <= char <= 'z':\n",
    "        answer += chr((ord(char) - ord('a') - 13) % 26 + ord('a'))\n",
    "    elif 'A' <= char <= 'Z':\n",
    "        answer += chr((ord(char) - ord('A') - 13) % 26 + ord('A'))\n",
    "    else:\n",
    "        answer += char\n",
    "        \n",
    "print(answer)"
   ]
  },
  {
   "cell_type": "markdown",
   "id": "2fb5efc0-2fe8-4a3b-82f4-a585c48b289d",
   "metadata": {
    "jp-MarkdownHeadingCollapsed": true,
    "tags": []
   },
   "source": [
    "# 2024-05-12"
   ]
  },
  {
   "cell_type": "markdown",
   "id": "ae9e21fa-189c-480c-91ae-cbdad39a54be",
   "metadata": {
    "tags": []
   },
   "source": [
    "## BOJ 2592번 대표값"
   ]
  },
  {
   "cell_type": "code",
   "execution_count": null,
   "id": "9cdda16c-6fce-4e23-940c-9a59e8ae7fdd",
   "metadata": {},
   "outputs": [],
   "source": [
    "import sys\n",
    "input = sys.stdin.readline\n",
    "\n",
    "D = {}\n",
    "sum_of_inputs = 0\n",
    "\n",
    "for _ in range(10):\n",
    "    num = int(input())\n",
    "    sum_of_inputs += num  \n",
    "    D[num] = D.get(num, 0) + 1  \n",
    "\n",
    "max_value = max(D.values())\n",
    "mode_keys = [key for key, value in D.items() if value == max_value]\n",
    "  \n",
    "print(sum_of_inputs // 10)\n",
    "print(mode_keys[0])"
   ]
  },
  {
   "cell_type": "markdown",
   "id": "6e9ba7c6-6026-4a3d-bb12-d646f03c8a0d",
   "metadata": {},
   "source": [
    "## BOJ 10804번 카드 역배치"
   ]
  },
  {
   "cell_type": "code",
   "execution_count": null,
   "id": "732bd2a0-4ad6-49da-83a5-97de7de5d4be",
   "metadata": {},
   "outputs": [],
   "source": [
    "import sys\n",
    "input = sys.stdin.readline\n",
    "\n",
    "L = [i for i in range(1, 21)]\n",
    "\n",
    "for _ in range(10):\n",
    "    a, b = map(int, input().split())\n",
    "    L[a-1:b] = L[a-1:b][::-1]\n",
    "    \n",
    "print(*L)"
   ]
  },
  {
   "cell_type": "markdown",
   "id": "a2c9b675-ecf8-4344-929c-24e3dff0e3a2",
   "metadata": {},
   "source": [
    "## BOJ 1373번 2진수 8진수"
   ]
  },
  {
   "cell_type": "code",
   "execution_count": null,
   "id": "183f960e-a1da-4811-964d-497b4c05f6e2",
   "metadata": {},
   "outputs": [],
   "source": [
    "binary_input = int(input(), 2)\n",
    "print(oct(binary_input)[2:])"
   ]
  },
  {
   "cell_type": "markdown",
   "id": "d62b5ee5-c59f-48e6-a83b-97c9f17e461f",
   "metadata": {
    "jp-MarkdownHeadingCollapsed": true,
    "tags": []
   },
   "source": [
    "# 2024-05-13"
   ]
  },
  {
   "cell_type": "markdown",
   "id": "13b20dec-3aed-44e7-a1e7-af947816c9f3",
   "metadata": {},
   "source": [
    "## BOJ 6359번 만취한 상범"
   ]
  },
  {
   "cell_type": "code",
   "execution_count": null,
   "id": "3624667d-1365-411d-bd2e-f3098c302b64",
   "metadata": {},
   "outputs": [],
   "source": [
    "import sys\n",
    "input = sys.stdin.readline\n",
    "\n",
    "T = int(input())\n",
    "\n",
    "for _ in range(T):\n",
    "    n = int(input())\n",
    "    L = [0] * (n + 1)\n",
    "    \n",
    "    for i in range(1, n+1):\n",
    "        for j in range(i, n+1, i):\n",
    "            L[j] = 1 if L[j] == 0 else 0\n",
    "            \n",
    "    print(L.count(1))"
   ]
  },
  {
   "cell_type": "markdown",
   "id": "5c44d08c-ea17-4cc4-8f75-476f415f7d75",
   "metadata": {
    "tags": []
   },
   "source": [
    "## BOJ 5598번 카이사르 암호"
   ]
  },
  {
   "cell_type": "code",
   "execution_count": null,
   "id": "12177329-ac4b-4a52-90ea-3a5609df8d37",
   "metadata": {},
   "outputs": [],
   "source": [
    "S = input()\n",
    "answer = ''\n",
    "\n",
    "for char in S:\n",
    "    answer += chr((ord(char) - 3 - ord('A')) % 26 + ord('A'))\n",
    "\n",
    "print(answer)"
   ]
  },
  {
   "cell_type": "markdown",
   "id": "9149a257-980b-421b-bd34-72faf1043396",
   "metadata": {},
   "source": [
    "## BOJ 4796번 캠핑"
   ]
  },
  {
   "cell_type": "code",
   "execution_count": null,
   "id": "20324811-5cf6-45da-a48c-dfa251bcfe8a",
   "metadata": {},
   "outputs": [],
   "source": [
    "cnt = 1\n",
    "while True:\n",
    "    L, P, V = map(int, input().split())\n",
    "    if L == P == V == 0:\n",
    "        break\n",
    "    total_days = V // P * L\n",
    "    remaining_days = V % P\n",
    "    answer = total_days + min(L, remaining_days)\n",
    "    print(f'Case {cnt}: {answer}')\n",
    "    cnt += 1"
   ]
  },
  {
   "cell_type": "markdown",
   "id": "69ca9d3a-0146-4774-b9ab-4e51eeca74dd",
   "metadata": {
    "jp-MarkdownHeadingCollapsed": true,
    "tags": []
   },
   "source": [
    "# 2024-05-14"
   ]
  },
  {
   "cell_type": "markdown",
   "id": "059c4b6d-e8c0-43fc-bcfd-48e655dec184",
   "metadata": {},
   "source": [
    "## BOJ 2711번 오타맨 고창영"
   ]
  },
  {
   "cell_type": "code",
   "execution_count": null,
   "id": "28318eeb-2311-4839-8abe-5cbf3e995dd1",
   "metadata": {},
   "outputs": [],
   "source": [
    "import sys\n",
    "input = sys.stdin.readline\n",
    "\n",
    "T = int(input())\n",
    "\n",
    "for _ in range(T):\n",
    "    num, string = input().split()\n",
    "    num = int(num)\n",
    "    string = string[:num-1] + string[num:]\n",
    "    print(string)"
   ]
  },
  {
   "cell_type": "markdown",
   "id": "c157e4f6-a0cd-4568-a8a5-08cf406dc2fb",
   "metadata": {},
   "source": [
    "## BOJ 24416번 알고리즘 수업 - 피보나치 수 1"
   ]
  },
  {
   "cell_type": "code",
   "execution_count": null,
   "id": "1d71df1f-04fe-42e3-9238-4baacc0ec12a",
   "metadata": {},
   "outputs": [],
   "source": [
    "n = int(input())\n",
    "\n",
    "def fibonacci(n):\n",
    "    if n == 1 or n == 2:\n",
    "        return 1\n",
    "    a, b = 1, 1\n",
    "    \n",
    "    for _ in range(3, n + 1):\n",
    "        a, b = b, a + b\n",
    "    \n",
    "    return b\n",
    "\n",
    "result = fibonacci(n)\n",
    "print(result, n - 2)"
   ]
  },
  {
   "cell_type": "markdown",
   "id": "83f5dc53-c624-457d-acf2-197cf354ab73",
   "metadata": {},
   "source": [
    "## BOJ 4673번 셀프 넘버"
   ]
  },
  {
   "cell_type": "code",
   "execution_count": null,
   "id": "412c64d6-0097-4f2a-bcaa-804ae204db73",
   "metadata": {},
   "outputs": [],
   "source": [
    "L = [True] * 10001\n",
    "\n",
    "for i in range(1, 10001):\n",
    "    total = i\n",
    "    for digit in str(i):\n",
    "        total += int(digit)\n",
    "        \n",
    "    if total <= 10000:\n",
    "        L[total] = False\n",
    "\n",
    "for i in range(1, 10001):\n",
    "    if L[i]:\n",
    "        print(i)"
   ]
  },
  {
   "cell_type": "markdown",
   "id": "55c750d3-9857-4bb5-a79e-bf0d72eacda6",
   "metadata": {
    "jp-MarkdownHeadingCollapsed": true,
    "tags": []
   },
   "source": [
    "# 2024-05-15"
   ]
  },
  {
   "cell_type": "markdown",
   "id": "fe5f3619-18df-4e26-9ba3-7f03d7c908d2",
   "metadata": {},
   "source": [
    "## BOJ 10093번 숫자"
   ]
  },
  {
   "cell_type": "code",
   "execution_count": null,
   "id": "6ba92dab-3f66-4aa9-b724-686d29109016",
   "metadata": {},
   "outputs": [],
   "source": [
    "A, B = map(int, input().split())\n",
    "\n",
    "min_num = min(A, B)\n",
    "max_num = max(A, B)\n",
    "\n",
    "length = max_num - min_num - 1\n",
    "print(max(length, 0))\n",
    "\n",
    "for num in range(min_num + 1, max_num):\n",
    "    print(num, end=' ')"
   ]
  },
  {
   "cell_type": "markdown",
   "id": "58a7028d-a1b4-4cc3-8cff-cfa7820c296f",
   "metadata": {},
   "source": [
    "## BOJ 1357번 뒤집힌 덧셈"
   ]
  },
  {
   "cell_type": "code",
   "execution_count": null,
   "id": "b4c2999f-cc45-47d7-8ecc-e66a0a057e9d",
   "metadata": {},
   "outputs": [],
   "source": [
    "def rev(s):\n",
    "    return s[::-1]\n",
    "\n",
    "X, Y = input().split()\n",
    "rev_XY = int(rev(X)) + int(rev(Y))\n",
    "\n",
    "print(int(rev(str(rev_XY))))"
   ]
  },
  {
   "cell_type": "markdown",
   "id": "e0c386fc-0d3d-476b-a562-ef32888d9f70",
   "metadata": {},
   "source": [
    "## BOJ 7568번 덩치"
   ]
  },
  {
   "cell_type": "code",
   "execution_count": null,
   "id": "00da664a-364d-4f72-93bb-0406d6953b29",
   "metadata": {},
   "outputs": [],
   "source": [
    "import sys\n",
    "input = sys.stdin.readline\n",
    "\n",
    "N = int(input())\n",
    "L = []\n",
    "\n",
    "for _ in range(N):\n",
    "    x, y = map(int, input().split())\n",
    "    L.append((x, y))\n",
    "    \n",
    "for i in L:\n",
    "    rank = 1\n",
    "    for j in L:\n",
    "        if i[0] < j[0] and i[1] < j[1]:\n",
    "            rank += 1\n",
    "    print(rank, end=' ')"
   ]
  },
  {
   "cell_type": "markdown",
   "id": "41f187ab-8553-447f-8bec-f6d5de643ceb",
   "metadata": {
    "jp-MarkdownHeadingCollapsed": true,
    "tags": []
   },
   "source": [
    "# 2024-05-16"
   ]
  },
  {
   "cell_type": "markdown",
   "id": "b7c8b07e-e7f7-47b9-8d20-5cbf51c9ab53",
   "metadata": {},
   "source": [
    "## BOJ 10812번 바구니 순서 바꾸기"
   ]
  },
  {
   "cell_type": "code",
   "execution_count": null,
   "id": "cdacfee9-e2c9-4fb7-b253-ec601e80fafb",
   "metadata": {},
   "outputs": [],
   "source": [
    "import sys\n",
    "input = sys.stdin.readline\n",
    "\n",
    "N, M = map(int, input().split())\n",
    "answer = [i for i in range(1,N+1)]\n",
    "\n",
    "for _ in range(M):\n",
    "    i, j, k = map(int, input().split())\n",
    "    i, j, k = i-1, j-1, k-1\n",
    "    answer = answer[:i] + answer[k:j+1] + answer[i:k] + answer[j+1:]\n",
    "    \n",
    "print(*answer)"
   ]
  },
  {
   "cell_type": "markdown",
   "id": "2d24d71b-c1dc-45e9-a323-fc28c4a5e8c7",
   "metadata": {},
   "source": [
    "## BOJ 2693번 N번째 큰 수"
   ]
  },
  {
   "cell_type": "code",
   "execution_count": null,
   "id": "f7d4b210-35f9-48f4-9aec-ced811737606",
   "metadata": {},
   "outputs": [],
   "source": [
    "import sys\n",
    "input = sys.stdin.readline\n",
    "\n",
    "T = int(input())\n",
    "\n",
    "for _ in range(T):\n",
    "    L = list(map(int, input().split()))\n",
    "    answer = sorted(L, reverse=True)\n",
    "    print(answer[2])"
   ]
  },
  {
   "cell_type": "markdown",
   "id": "b70de8d9-c965-4149-a0e1-c9896b61f766",
   "metadata": {},
   "source": [
    "## BOJ 11723번 집합"
   ]
  },
  {
   "cell_type": "code",
   "execution_count": null,
   "id": "7d5f65ae-a6f1-40aa-8cbe-66f497aea942",
   "metadata": {},
   "outputs": [],
   "source": [
    "import sys\n",
    "input = sys.stdin.readline\n",
    "\n",
    "M = int(input())\n",
    "L = []\n",
    "\n",
    "for _ in range(M):\n",
    "    command = input().split()\n",
    "    if len(command) == 1:\n",
    "        act = command[0]\n",
    "    else:\n",
    "        act, num = command\n",
    "        num = int(num)\n",
    "    \n",
    "    if act == 'add':\n",
    "        if num not in L:\n",
    "            L.append(num)\n",
    "    elif act == 'remove':\n",
    "        if num in L:\n",
    "            L.remove(num)\n",
    "    elif act == 'check':\n",
    "        print(1) if num in L else print(0)\n",
    "    elif act == 'toggle':\n",
    "        if num in L:\n",
    "            L.remove(num)\n",
    "        else:\n",
    "            L.append(num)\n",
    "    elif act == 'all':\n",
    "        L = [i for i in range(1,21)]\n",
    "    else:\n",
    "        L = []"
   ]
  },
  {
   "cell_type": "markdown",
   "id": "456c5bc5-83eb-4458-8231-d4ce4ec0c5e2",
   "metadata": {},
   "source": [
    "## BOJ 1065번 한수"
   ]
  },
  {
   "cell_type": "code",
   "execution_count": null,
   "id": "4d9259ce-bded-4e64-9e7a-6527a3c95553",
   "metadata": {},
   "outputs": [],
   "source": [
    "N = int(input())\n",
    "answer = 0\n",
    "\n",
    "for i in range(1,N+1):\n",
    "    if i < 100:\n",
    "        answer += 1\n",
    "    else:\n",
    "        L = list(map(int, str(i)))\n",
    "        if L[0] - L[1] == L[1] - L[2]:\n",
    "            answer += 1\n",
    "            \n",
    "print(answer)"
   ]
  },
  {
   "cell_type": "markdown",
   "id": "a0ac3592-c1c1-4f06-97aa-7fde0d7f0f9b",
   "metadata": {},
   "source": [
    "## BOJ 1463번 1로 만들기"
   ]
  },
  {
   "cell_type": "code",
   "execution_count": null,
   "id": "0425e33c-ddef-4551-afef-3c0f1775fa24",
   "metadata": {},
   "outputs": [],
   "source": [
    "X = int(input())\n",
    "dp = [0] * (X+1)\n",
    "\n",
    "for i in range(2, X+1):\n",
    "    dp[i] = dp[i-1] + 1\n",
    "    \n",
    "    if i % 2 == 0:\n",
    "        dp[i] = min(dp[i], dp[i//2]+1)\n",
    "        \n",
    "    if i % 3 == 0:\n",
    "        dp[i] = min(dp[i], dp[i//3]+1)\n",
    "    \n",
    "print(dp[X])"
   ]
  },
  {
   "cell_type": "markdown",
   "id": "d780f6e4-f97e-4b2a-9f25-77034c902f64",
   "metadata": {},
   "source": [
    "## BOJ 9095번 1,2,3 더하기"
   ]
  },
  {
   "cell_type": "code",
   "execution_count": null,
   "id": "a1ac3a6c-89bc-49e4-b10f-817906f5ab23",
   "metadata": {},
   "outputs": [],
   "source": [
    "import sys\n",
    "input = sys.stdin.readline\n",
    "\n",
    "T = int(input())\n",
    "\n",
    "dp = [0] * 11\n",
    "dp[1], dp[2], dp[3] = 1, 2, 4\n",
    "\n",
    "for i in range(4, 11):\n",
    "    dp[i] = dp[i-1] + dp[i-2] + dp[i-3]\n",
    "    \n",
    "for _ in range(T):\n",
    "    n = int(input())\n",
    "    print(dp[n])"
   ]
  },
  {
   "cell_type": "markdown",
   "id": "f1d9ec41-fb6b-4f9e-97f5-7ef617eb1bc9",
   "metadata": {
    "jp-MarkdownHeadingCollapsed": true,
    "tags": []
   },
   "source": [
    "# 2024-05-17"
   ]
  },
  {
   "cell_type": "markdown",
   "id": "0ecf6974-15c1-4f2a-8930-09e443d1bf88",
   "metadata": {},
   "source": [
    "## BOJ 15969번 행복"
   ]
  },
  {
   "cell_type": "code",
   "execution_count": null,
   "id": "cbbe2783-a5d8-479d-9f57-3ed0d7f5ebab",
   "metadata": {},
   "outputs": [],
   "source": [
    "N = int(input())\n",
    "answer = sorted(list(map(int, input().split())))\n",
    "print(answer[-1]-answer[0])"
   ]
  },
  {
   "cell_type": "markdown",
   "id": "a40543ab-02b5-400e-ad59-ec59d93cfe71",
   "metadata": {},
   "source": [
    "## BOJ 2851번 슈퍼 마리오"
   ]
  },
  {
   "cell_type": "code",
   "execution_count": null,
   "id": "207fed8d-2468-4c0e-afce-8d84508820d6",
   "metadata": {},
   "outputs": [],
   "source": [
    "import sys\n",
    "input = sys.stdin.readline\n",
    "\n",
    "prev, current = 0, 0\n",
    "\n",
    "for _ in range(10):\n",
    "    num = int(input())\n",
    "    prev = current\n",
    "    current += num\n",
    "    \n",
    "    if current >= 100:\n",
    "        if current - 100 > 100 - prev:\n",
    "            print(prev)\n",
    "            break\n",
    "        else:\n",
    "            print(current)\n",
    "            break\n",
    "else:\n",
    "    print(current)"
   ]
  },
  {
   "cell_type": "markdown",
   "id": "a67aeecb-d00a-436b-a82f-7021a7e246a1",
   "metadata": {},
   "source": [
    "## BOJ 1475번 방 번호"
   ]
  },
  {
   "cell_type": "code",
   "execution_count": null,
   "id": "ee54230a-0850-43d8-80ed-40d23dd4a918",
   "metadata": {},
   "outputs": [],
   "source": [
    "S = input()\n",
    "answer = [0] * 10\n",
    "\n",
    "for i in range(len(S)):\n",
    "    num = int(S[i])\n",
    "    if num in (6,9):\n",
    "        if answer[6] <= answer[9]:\n",
    "            answer[6] += 1\n",
    "        else:\n",
    "            answer[9] += 1\n",
    "    else:\n",
    "        answer[num] += 1\n",
    "        \n",
    "print(max(answer))"
   ]
  },
  {
   "cell_type": "markdown",
   "id": "ae8ee073-bd19-4b53-baff-326d2c76eb41",
   "metadata": {
    "jp-MarkdownHeadingCollapsed": true,
    "tags": []
   },
   "source": [
    "# 2024-05-18"
   ]
  },
  {
   "cell_type": "markdown",
   "id": "aa88fb8e-3111-423e-98ce-f6d1823d2f2e",
   "metadata": {},
   "source": [
    "## BOJ 1789번 수들의 합"
   ]
  },
  {
   "cell_type": "code",
   "execution_count": null,
   "id": "b1d9b292-978e-46de-8458-238a206494fc",
   "metadata": {},
   "outputs": [],
   "source": [
    "N = int(input())\n",
    "total = 0\n",
    "answer = 0\n",
    "\n",
    "for num in range(1, N+1):\n",
    "    total += num\n",
    "    if total > N:\n",
    "        break\n",
    "    answer += 1\n",
    "\n",
    "print(answer)"
   ]
  },
  {
   "cell_type": "markdown",
   "id": "dfa81903-d0a5-46ad-89f3-4f59f732e862",
   "metadata": {},
   "source": [
    "## BOJ 11399번 ATM"
   ]
  },
  {
   "cell_type": "code",
   "execution_count": null,
   "id": "9b227c55-8b4d-45b7-b67b-de69fbdd0561",
   "metadata": {},
   "outputs": [],
   "source": [
    "N = int(input())\n",
    "P = sorted(list(map(int, input().split())))\n",
    "answer = 0\n",
    "\n",
    "for i in range(1, N+1):\n",
    "    answer += sum(P[:i])\n",
    "    \n",
    "print(answer)"
   ]
  },
  {
   "cell_type": "markdown",
   "id": "4c7d3069-7fde-488a-913f-9b6fedf2cfc9",
   "metadata": {},
   "source": [
    "## BOJ 2606번 바이러스"
   ]
  },
  {
   "cell_type": "markdown",
   "id": "0bf7e3b6-b16e-47d7-b511-961d7b877485",
   "metadata": {},
   "source": [
    "### DFS"
   ]
  },
  {
   "cell_type": "code",
   "execution_count": null,
   "id": "f63501fa-42f4-436d-b4df-36e74bdf0905",
   "metadata": {},
   "outputs": [],
   "source": [
    "N = int(input())\n",
    "M = int(input())\n",
    "\n",
    "virus = [0] * (N+1)\n",
    "graph = [[] for i in range(N+1)]\n",
    "\n",
    "for i in range(M):\n",
    "    a, b = map(int, input().split())\n",
    "    graph[a] += [b]\n",
    "    graph[b] += [a]\n",
    "\n",
    "def dfs(m):\n",
    "    virus[m] = 1\n",
    "    for i in graph[m]:\n",
    "        if virus[i] == 0:\n",
    "            dfs(i)\n",
    "            \n",
    "dfs(1)\n",
    "print(sum(virus) - 1)"
   ]
  },
  {
   "cell_type": "markdown",
   "id": "c524fffa-2827-4ee5-9857-ed32b6061216",
   "metadata": {},
   "source": [
    "### BFS"
   ]
  },
  {
   "cell_type": "code",
   "execution_count": null,
   "id": "7c53ad58-f27d-4fbb-b9ff-736aaeb88170",
   "metadata": {},
   "outputs": [],
   "source": [
    "from collections import deque\n",
    "\n",
    "N = int(input())\n",
    "M = int(input())\n",
    "\n",
    "virus = [0] * (N+1)\n",
    "virus[1] = 1 \n",
    "graph = [[] for i in range(N+1)]\n",
    "\n",
    "for i in range(M):\n",
    "    a, b = map(int, input().split())\n",
    "    graph[a] += [b]\n",
    "    graph[b] += [a]\n",
    "\n",
    "Q = deque([1])\n",
    "\n",
    "while Q:\n",
    "    c = Q.popleft()\n",
    "    for i in graph[c]:\n",
    "        if virus[i] == 0:\n",
    "            Q.append(i)\n",
    "            virus[i] = 1\n",
    "            \n",
    "print(sum(virus)-1)"
   ]
  },
  {
   "cell_type": "markdown",
   "id": "44feb204-5e87-4c4c-a28e-90deba2143c1",
   "metadata": {
    "jp-MarkdownHeadingCollapsed": true,
    "tags": []
   },
   "source": [
    "# 2024-05-19"
   ]
  },
  {
   "cell_type": "markdown",
   "id": "674e19e1-aa76-462b-853b-3c170466d896",
   "metadata": {
    "tags": []
   },
   "source": [
    "## BOJ 1476번 날짜 계산"
   ]
  },
  {
   "cell_type": "code",
   "execution_count": null,
   "id": "06abefd8-c723-4fa2-8395-f4dc9c6cf95b",
   "metadata": {},
   "outputs": [],
   "source": [
    "# 입력 받기\n",
    "E, S, M = map(int, input().split())\n",
    "\n",
    "# 정답 변수 초기화\n",
    "answer = 1\n",
    "\n",
    "# 모든 조건을 만족할 때까지 반복\n",
    "while True:\n",
    "    # E, S, M을 각각 빼고, 범위로 나눈 나머지가 0일 때\n",
    "    if (answer - E) % 15 == 0 and (answer - S) % 28 == 0 and (answer - M) % 19 == 0:\n",
    "        break\n",
    "    answer += 1\n",
    "    \n",
    "print(answer)"
   ]
  },
  {
   "cell_type": "markdown",
   "id": "7bb607ca-35ba-4921-8b54-ef1762a61b5f",
   "metadata": {},
   "source": [
    "## BOJ 11047번 동전 0"
   ]
  },
  {
   "cell_type": "code",
   "execution_count": null,
   "id": "799abd2f-739a-4bb2-aa53-1664fee3fecb",
   "metadata": {},
   "outputs": [],
   "source": [
    "import sys\n",
    "input = sys.stdin.readline\n",
    "\n",
    "# 입력 받기\n",
    "N, K = map(int, input().split())\n",
    "coins = [int(input()) for _ in range(N)]\n",
    "\n",
    "# 정답 변수 초기화\n",
    "answer = 0\n",
    "\n",
    "# coins 내림차순 정렬\n",
    "for coin in sorted(coins, reverse=True):\n",
    "    # 현재 동전 값이 남은 금액 K보다 작거나 같을 때\n",
    "    if K >= coin:\n",
    "        # K를 현재 동전 값으로 나눈 몫을 answer에 추가 (해당 동전의 개수)\n",
    "        answer += K // coin\n",
    "        # K를 현재 동전 값으로 나눈 나머지로 갱신 (남은 금액)\n",
    "        K %= coin\n",
    "\n",
    "print(answer)"
   ]
  },
  {
   "cell_type": "markdown",
   "id": "8ac9023e-f434-4234-ab10-ca94da9c40d7",
   "metadata": {},
   "source": [
    "## BOJ 1003번 피보나치 함수"
   ]
  },
  {
   "cell_type": "code",
   "execution_count": null,
   "id": "77fef221-b9f4-4acf-b437-1c10372851a7",
   "metadata": {},
   "outputs": [],
   "source": [
    "import sys\n",
    "input = sys.stdin.readline\n",
    "\n",
    "# 테스트 케이스 개수 입력 받기\n",
    "T = int(input())\n",
    "\n",
    "for _ in range(T):\n",
    "    # 초기화: n=0일 때의 피보나치 호출 횟수 설정\n",
    "    cnt_0, cnt_1 = 1, 0\n",
    "    \n",
    "    # 피보나치 수열을 통해 0과 1의 호출 횟수 구하기\n",
    "    N = int(input())\n",
    "    for i in range(N):\n",
    "        cnt_0, cnt_1 = cnt_1, cnt_0 + cnt_1\n",
    "        \n",
    "    print(cnt_0, cnt_1)"
   ]
  },
  {
   "cell_type": "markdown",
   "id": "b64129ac-7906-4fc2-a096-feed3e95b4db",
   "metadata": {
    "jp-MarkdownHeadingCollapsed": true,
    "tags": []
   },
   "source": [
    "# 2024-05-20"
   ]
  },
  {
   "cell_type": "markdown",
   "id": "bd354508-3548-4bb6-801c-c911128f70ce",
   "metadata": {},
   "source": [
    "## 17478번 재귀함수가 뭔가요?"
   ]
  },
  {
   "cell_type": "code",
   "execution_count": null,
   "id": "1cd481db-ffb8-41de-b375-9801d3ded848",
   "metadata": {},
   "outputs": [],
   "source": [
    "def chatbot(N, cnt):\n",
    "    print('____' * cnt + '\"재귀함수가 뭔가요?\"')\n",
    "    \n",
    "    if cnt == N:\n",
    "        print('____' * cnt + '\"재귀함수는 자기 자신을 호출하는 함수라네\"')\n",
    "    else:\n",
    "        print('____' * cnt + '\"잘 들어보게. 옛날옛날 한 산 꼭대기에 이세상 모든 지식을 통달한 선인이 있었어.')\n",
    "        print('____' * cnt + '마을 사람들은 모두 그 선인에게 수많은 질문을 했고, 모두 지혜롭게 대답해 주었지.')\n",
    "        print('____' * cnt + '그의 답은 대부분 옳았다고 하네. 그런데 어느 날, 그 선인에게 한 선비가 찾아와서 물었어.\"')\n",
    "        chatbot(N, cnt + 1)\n",
    "        \n",
    "    print('____' * cnt + '라고 답변하였지.')\n",
    "    \n",
    "N = int(input())\n",
    "print('어느 한 컴퓨터공학과 학생이 유명한 교수님을 찾아가 물었다.')\n",
    "chatbot(N, 0)"
   ]
  },
  {
   "cell_type": "markdown",
   "id": "cbb4269c-51f4-418a-9a5a-78b814cea7d0",
   "metadata": {},
   "source": [
    "## 10773번 제로"
   ]
  },
  {
   "cell_type": "code",
   "execution_count": null,
   "id": "92a7a347-8a60-4450-b299-350e3ecfb115",
   "metadata": {},
   "outputs": [],
   "source": [
    "import sys\n",
    "input = sys.stdin.readline\n",
    "\n",
    "# 입력 받기\n",
    "K = int(input())\n",
    "# 정답 변수 초기화\n",
    "answer = []\n",
    "\n",
    "for _ in range(K):\n",
    "    # 정수 입력 받기\n",
    "    num = int(input())\n",
    "    \n",
    "    # num이 0이면 pop, 아니면 append\n",
    "    if num != 0:\n",
    "        answer.append(num)\n",
    "    else:\n",
    "        answer.pop()\n",
    "        \n",
    "# answer의 수가 0이면 0, 아니면 합 출력\n",
    "print(0) if len(answer) == 0 else print(sum(answer))"
   ]
  },
  {
   "cell_type": "markdown",
   "id": "0a8482e7-e6bb-4b4c-863f-7975cdd0c4ba",
   "metadata": {},
   "source": [
    "## 11726번 2*n 타일링"
   ]
  },
  {
   "cell_type": "markdown",
   "id": "eed722da-e63d-4a2e-88ac-5044ade9e9df",
   "metadata": {},
   "source": [
    "\n",
    "\\begin{cases}\n",
    "f(n) = f(n-1) + f(n-2) & \\text{for } n \\geq 3 \\\\\n",
    "f(1) = 1 \\\\\n",
    "f(2) = 2\n",
    "\\end{cases}"
   ]
  },
  {
   "cell_type": "code",
   "execution_count": null,
   "id": "957dcf3d-0cfd-48f0-b078-e18c324268a9",
   "metadata": {},
   "outputs": [],
   "source": [
    "# 입력 받기\n",
    "N = int(input())\n",
    "\n",
    "# DP를 위한 배열 초기화\n",
    "dp = [0] * 1001\n",
    "dp[1] = 1\n",
    "dp[2] = 2\n",
    "\n",
    "# 점화식에 따라 배열 채우기\n",
    "for i in range(3, N+1):\n",
    "    dp[i] = (dp[i-1] + dp[i-2]) % 10007\n",
    "    \n",
    "print(dp[N])"
   ]
  },
  {
   "cell_type": "markdown",
   "id": "dc263ae9-f91d-41dc-9c98-84f1b5387aa8",
   "metadata": {
    "jp-MarkdownHeadingCollapsed": true,
    "tags": []
   },
   "source": [
    "# 2024-05-21"
   ]
  },
  {
   "cell_type": "markdown",
   "id": "5e96d93b-1238-4ece-802f-75c1c2f48202",
   "metadata": {},
   "source": [
    "## 9655. 돌 게임"
   ]
  },
  {
   "cell_type": "code",
   "execution_count": null,
   "id": "4af416a3-ecfb-4257-b088-b6675dac39a8",
   "metadata": {},
   "outputs": [],
   "source": [
    "# 입력 받기\n",
    "N = int(input())\n",
    "\n",
    "# turn: 0은 SK의 차례, 1은 CY의 차례를 의미\n",
    "turn = 0 \n",
    "\n",
    "while True:\n",
    "    # N이 3 이상이면 3개 가져가기, 아니면 1개 가져가기\n",
    "    N = N-3 if N >= 3 else N-1\n",
    "\n",
    "    # N이 0이 될 경우 누구 차례였는지 출력\n",
    "    if N == 0:\n",
    "        print('SK') if turn == 0 else print('CY')\n",
    "        break\n",
    "        \n",
    "    # 차례 변경 (0 -> 1 또는 1 -> 0)\n",
    "    turn = 1 - turn "
   ]
  },
  {
   "cell_type": "markdown",
   "id": "cc9db399-aec8-423e-bd05-f91cd906c8c9",
   "metadata": {},
   "source": [
    "## 1158. 요세푸스 문제"
   ]
  },
  {
   "cell_type": "code",
   "execution_count": null,
   "id": "ba5adb9e-1209-4855-b59a-1f0379089be9",
   "metadata": {},
   "outputs": [],
   "source": [
    "from collections import deque\n",
    "# 입력 받기\n",
    "N, K = map(int, input().split())\n",
    "\n",
    "# N명 리스트 생성 후 deque로 변환\n",
    "deq = deque([i for i in range(1,N+1)])\n",
    "\n",
    "# 정답 변수 초기화\n",
    "answer = []\n",
    "\n",
    "while len(deq) > 0:\n",
    "    # pop할 K 전까지 deq의 뒤로 추가\n",
    "    for i in range(K-1):\n",
    "        deq.append(deq.popleft())\n",
    "        \n",
    "    # K번째 요소를 deq에서 제거하고 answer에 추가\n",
    "    answer.append(deq.popleft())\n",
    "\n",
    "print('<' + ', '.join(map(str, answer)) + '>')"
   ]
  },
  {
   "cell_type": "code",
   "execution_count": null,
   "id": "0933f6e0-b188-4a74-a63a-755bb3afe54b",
   "metadata": {},
   "outputs": [],
   "source": [
    "# 입력 받기\n",
    "N, K = map(int, input().split())\n",
    "\n",
    "# N명 리스트 생성\n",
    "L = [i for i in range(1, N+1)]\n",
    "\n",
    "# 정답 변수 초기화\n",
    "answer = []\n",
    "\n",
    "# 인덱스 변수 초기화\n",
    "idx = 0\n",
    "\n",
    "for i in range(N):\n",
    "    # K번째 사람 찾기\n",
    "    idx += K-1\n",
    "    \n",
    "    # 인덱스가 L을 넘어갈 경우 원형 리스트처럼 순환\n",
    "    if idx >= len(L):\n",
    "        idx %= len(L)\n",
    "    \n",
    "    # 현재 인덱스 제거하고 answer에 추가\n",
    "    answer.append(L.pop(idx))\n",
    "\n",
    "print('<' + ', '.join(map(str, answer)) + '>')"
   ]
  },
  {
   "cell_type": "markdown",
   "id": "33b04960-d0ab-4276-a25c-12ca4a7568df",
   "metadata": {},
   "source": [
    "## 2579. 계단 오르기"
   ]
  },
  {
   "cell_type": "code",
   "execution_count": null,
   "id": "37855f93-39c8-4aea-8941-065540192910",
   "metadata": {},
   "outputs": [],
   "source": [
    "# 입력 받기\n",
    "N = int(input())\n",
    "\n",
    "# 계단 점수를 저장할 배열 초기화\n",
    "stairs = [0] * 301\n",
    "\n",
    "# 계단 점수 입력 받기\n",
    "for i in range(1, N+1):\n",
    "    stairs[i] = int(input())\n",
    "\n",
    "# dp 배열 초기화\n",
    "dp = [0] * 301\n",
    "dp[1] = stairs[1]\n",
    "dp[2] = stairs[1] + stairs[2]\n",
    "dp[3] = max(stairs[1] + stairs[3], stairs[2] + stairs[3])\n",
    "\n",
    "for i in range(4, N+1):\n",
    "    # 두 가지 경우 중 큰 값을 dp[i]에 저장\n",
    "    # 1. i-3번째 계단을 밟고 i-1번째 계단을 밟은 후 i번째 계단을 밟는 경우\n",
    "    # 2. i-2번째 계단을 밟고 i번째 계단을 밟는 경우\n",
    "    dp[i] = max(dp[i - 3] + stairs[i - 1] + stairs[i], dp[i - 2] + stairs[i])\n",
    "\n",
    "print(dp[N])"
   ]
  },
  {
   "cell_type": "markdown",
   "id": "4e1cce91-2386-429d-975d-ac8e90d4f723",
   "metadata": {
    "jp-MarkdownHeadingCollapsed": true,
    "tags": []
   },
   "source": [
    "# 2024-05-22"
   ]
  },
  {
   "cell_type": "markdown",
   "id": "69ae7ad4-6ecc-4b2f-a29c-b7446a908d8d",
   "metadata": {},
   "source": [
    "## 1026. 보물"
   ]
  },
  {
   "cell_type": "code",
   "execution_count": null,
   "id": "8a9f479f-d2e1-4076-a541-04708cbefc58",
   "metadata": {},
   "outputs": [],
   "source": [
    "import sys\n",
    "input = sys.stdin.readline\n",
    "\n",
    "# 입력 받기\n",
    "S = int(input())\n",
    "A = list(map(int, input().split()))\n",
    "B = list(map(int, input().split()))\n",
    "\n",
    "# A는 오름차순, B는 내림차순 정렬해서 최솟값 구하기\n",
    "A.sort()\n",
    "B.sort(reverse=True)\n",
    "\n",
    "answer = [A[i]*B[i] for i in range(S)]\n",
    "\n",
    "print(sum(answer))"
   ]
  },
  {
   "cell_type": "markdown",
   "id": "f89d3965-7920-4113-aa25-1321649c7713",
   "metadata": {},
   "source": [
    "## 15649. N과 M (1)"
   ]
  },
  {
   "cell_type": "code",
   "execution_count": null,
   "id": "98fd82d8-122d-49bd-bb9f-7e9173b0b014",
   "metadata": {},
   "outputs": [],
   "source": [
    "# 입력 받기\n",
    "N, M = map(int, input().split())\n",
    "\n",
    "# 정답 변수 초기화\n",
    "answer = []\n",
    "\n",
    "def backtracking():\n",
    "    # answer의 길이가 M과 같다면 print\n",
    "    if len(answer) == M:\n",
    "        print(' '.join(map(str, answer)))\n",
    "        return\n",
    "    \n",
    "    for i in range(1, N+1):\n",
    "        # i가 answer에 있다면 건너뜀\n",
    "        if i in answer:\n",
    "            continue\n",
    "        # i를 answer에 추가\n",
    "        answer.append(i)\n",
    "        # backtracking 재귀 호출\n",
    "        backtracking()\n",
    "        # answer에서 마지막 요소 제거 (백트랙킹 과정)\n",
    "        answer.pop()\n",
    "        \n",
    "backtracking()"
   ]
  },
  {
   "cell_type": "markdown",
   "id": "f5bded2b-1f9e-4f81-abf7-43a7247666ed",
   "metadata": {},
   "source": [
    "## 15650. N과 M (2)"
   ]
  },
  {
   "cell_type": "code",
   "execution_count": null,
   "id": "900a3649-d336-40ef-ab8e-088f52f03f7d",
   "metadata": {},
   "outputs": [],
   "source": [
    "# 입력 받기\n",
    "N, M = map(int, input().split())\n",
    "\n",
    "# 정답을 저장할 리스트 초기화\n",
    "answer = []\n",
    "\n",
    "def backtracking(num):\n",
    "    # answer의 길이가 M과 같다면 정답을 출력\n",
    "    if len(answer) == M:\n",
    "        print(' '.join(map(str, answer)))\n",
    "        return\n",
    "    \n",
    "    # num부터 N까지의 숫자에 대해 반복\n",
    "    for i in range(num, N+1):\n",
    "        # i가 answer에 포함되어 있다면 건너뜀\n",
    "        if i in answer:\n",
    "            continue\n",
    "        # i를 answer에 추가\n",
    "        answer.append(i)\n",
    "        # 다음 숫자에 대해 재귀적으로 백트래킹 호출\n",
    "        backtracking(i + 1)\n",
    "        # answer에서 마지막 요소 제거 (백트래킹 과정)\n",
    "        answer.pop()\n",
    "        \n",
    "backtracking(1)"
   ]
  },
  {
   "cell_type": "markdown",
   "id": "fd857604-4300-4b8b-a5d7-a7ddfeb3dfe3",
   "metadata": {
    "jp-MarkdownHeadingCollapsed": true,
    "tags": []
   },
   "source": [
    "# 2024-05-23"
   ]
  },
  {
   "cell_type": "markdown",
   "id": "fb9c43c9-eb1c-4113-84c8-f884cfda3c11",
   "metadata": {},
   "source": [
    "## 1439. 뒤집기"
   ]
  },
  {
   "cell_type": "code",
   "execution_count": null,
   "id": "6053c405-974d-47e6-bfb6-2f33a979fd6a",
   "metadata": {},
   "outputs": [],
   "source": [
    "# 입력 받기\n",
    "S = input()\n",
    "\n",
    "# 연속된 문자가 다른 경우의 개수를 세기 위한 변수 초기화\n",
    "cnt = 0\n",
    "\n",
    "# 문자열의 각 문자에 대해, 다음 문자와 비교\n",
    "for i in range(len(S)-1):\n",
    "    # 현재 문자와 다음 문자가 다르면 cnt 증가\n",
    "    if S[i] != S[i+1]:\n",
    "        cnt += 1\n",
    "\n",
    "# (cnt + 1) // 2는 연속된 문자 그룹의 최소 변경 횟수를 의미\n",
    "print((cnt+1)//2)"
   ]
  },
  {
   "cell_type": "markdown",
   "id": "13b0e4a7-4f0e-47a5-88f5-6edd03e0c4af",
   "metadata": {},
   "source": [
    "## 18258. 큐 2"
   ]
  },
  {
   "cell_type": "code",
   "execution_count": null,
   "id": "c271b80d-b04d-4b80-8075-15bb3a22ba46",
   "metadata": {},
   "outputs": [],
   "source": [
    "import sys\n",
    "input = sys.stdin.readline\n",
    "\n",
    "N = int(input())\n",
    "queue = deque([])\n",
    "\n",
    "for _ in range(N):\n",
    "    command = input().split()\n",
    "    if command[0] == 'push':\n",
    "        queue.append(int(command[1]))\n",
    "    elif command[0] == 'pop':\n",
    "        print(queue.popleft()) if len(queue) > 0 else print(-1)\n",
    "    elif command[0] == 'size':\n",
    "        print(len(queue))\n",
    "    elif command[0] == 'empty':\n",
    "        print(1) if len(queue) == 0 else print(0)\n",
    "    elif command[0] == 'front':\n",
    "        print(queue[0]) if len(queue) > 0 else print(-1)\n",
    "    else:\n",
    "        print(queue[-1]) if len(queue) > 0 else print(-1)"
   ]
  },
  {
   "cell_type": "markdown",
   "id": "d93d372f-1816-45cf-a1b6-740526be4631",
   "metadata": {},
   "source": [
    "## 9461. 파도반 수열"
   ]
  },
  {
   "cell_type": "code",
   "execution_count": null,
   "id": "5ab2c03d-58ba-4563-aacd-465eb6233218",
   "metadata": {},
   "outputs": [],
   "source": [
    "# 입력 받기\n",
    "T = int(input())\n",
    "\n",
    "# DP를 위한 배열 초기화\n",
    "dp = [0] * 101\n",
    "\n",
    "# 초기 조건 설정\n",
    "dp[1] = 1\n",
    "dp[2] = 1\n",
    "dp[3] = 1\n",
    "\n",
    "# 점화식에 맞추어 배열 채우기\n",
    "for i in range(4, 101):\n",
    "    dp[i] = dp[i-2] + dp[i-3]\n",
    "\n",
    "for _ in range(T):\n",
    "    test = int(input())\n",
    "    print(dp[test])"
   ]
  },
  {
   "cell_type": "markdown",
   "id": "436da047-b89e-477b-966f-21a19dd956a7",
   "metadata": {
    "jp-MarkdownHeadingCollapsed": true,
    "tags": []
   },
   "source": [
    "# 2024-05-24"
   ]
  },
  {
   "cell_type": "markdown",
   "id": "09c825db-7568-4074-9be4-24bedb7f40b1",
   "metadata": {},
   "source": [
    "## 11004. K번째 수"
   ]
  },
  {
   "cell_type": "code",
   "execution_count": null,
   "id": "065acfce-2030-48e5-8fc2-8448e7b5c4b9",
   "metadata": {},
   "outputs": [],
   "source": [
    "import sys\n",
    "input = sys.stdin.readline\n",
    "\n",
    "N, K = map(int, input().split())\n",
    "\n",
    "A = list(map(int, input().split()))\n",
    "A.sort()\n",
    "\n",
    "print(A[K-1])"
   ]
  },
  {
   "cell_type": "code",
   "execution_count": null,
   "id": "8103bfbf-f609-4d51-9777-74cbc241ac99",
   "metadata": {},
   "outputs": [],
   "source": [
    "import sys\n",
    "import heapq\n",
    "input = sys.stdin.readline\n",
    "\n",
    "# 입력 받기\n",
    "N, K = map(int, input().split())\n",
    "A = list(map(int, input().split()))\n",
    "\n",
    "# 리스트를 힙으로 변환\n",
    "heapq.heapify(A)\n",
    "\n",
    "# K-1개의 요소를 제거\n",
    "for _ in range(K-1):\n",
    "    heapq.heappop(A)\n",
    "\n",
    "# K번째 요소를 추출\n",
    "print(heapq.heappop(A))"
   ]
  },
  {
   "cell_type": "markdown",
   "id": "c15c16bb-17c6-45a4-b5e7-d77b39ac5441",
   "metadata": {},
   "source": [
    "## 2217. 로프"
   ]
  },
  {
   "cell_type": "code",
   "execution_count": null,
   "id": "9a46fc1b-d04b-46ee-bcc0-bf390d86b56c",
   "metadata": {},
   "outputs": [],
   "source": [
    "import sys\n",
    "input = sys.stdin.readline\n",
    "\n",
    "# 입력 받기\n",
    "N = int(input())\n",
    "# 각 로프의 최대 중량 입력 받기\n",
    "ropes = [int(input()) for _ in range(N)]\n",
    "\n",
    "ropes.sort(reverse=True)\n",
    "result = []\n",
    "\n",
    "# 각 로프가 들어있는 리스트를 순회하며 최대 중량 계산\n",
    "for i in range(N):\n",
    "    result.append(ropes[i]*(i+1))\n",
    "    \n",
    "print(max(result))"
   ]
  },
  {
   "cell_type": "markdown",
   "id": "326935a5-dbd9-4f63-a7ba-61fd84ffb7b0",
   "metadata": {},
   "source": [
    "## 1002. 터렛"
   ]
  },
  {
   "cell_type": "code",
   "execution_count": null,
   "id": "27fd6cca-05c8-41a6-8fe9-a774cad1482c",
   "metadata": {},
   "outputs": [],
   "source": [
    "import sys\n",
    "import math\n",
    "input = sys.stdin.readline\n",
    "\n",
    "T = int(input())\n",
    "\n",
    "for _ in range(T):\n",
    "    x1, y1, r1, x2, y2, r2 = map(int, input().split())\n",
    "    # 두 좌표 사이 거리 구하기\n",
    "    distance = math.sqrt((x1-x2)**2 + (y1-y2)**2)\n",
    "    \n",
    "    # 동심원이고 반지름이 같을 때\n",
    "    if distance == 0 and r1 == r2:\n",
    "        print(-1)\n",
    "    # 내접 혹은 외접할 때\n",
    "    elif abs(r1-r2) == distance or r1+r2 == distance:\n",
    "        print(1)\n",
    "    # 서로 다른 두 점에서 만날 때\n",
    "    elif abs(r1-r2) < distance < r1+r2:\n",
    "        print(2)\n",
    "    else:\n",
    "        print(0)"
   ]
  },
  {
   "cell_type": "markdown",
   "id": "83a32d22-a8fc-414f-8d80-7bd80f191bbf",
   "metadata": {
    "jp-MarkdownHeadingCollapsed": true,
    "tags": []
   },
   "source": [
    "# 2024-05-25"
   ]
  },
  {
   "cell_type": "markdown",
   "id": "f446670b-de7e-4e79-af5f-9994cf01572d",
   "metadata": {},
   "source": [
    "## 2167. 2차원 배열의 합"
   ]
  },
  {
   "cell_type": "code",
   "execution_count": null,
   "id": "c21918de-4b7e-41ac-802c-0ed8f1cfe0f8",
   "metadata": {},
   "outputs": [],
   "source": [
    "import sys\n",
    "input = sys.stdin.readline\n",
    "\n",
    "# 입력 받기\n",
    "N, M = map(int, input().split())\n",
    "arr = [list(map(int, input().split())) for _ in range(N)]\n",
    "\n",
    "# DP를 위한 배열 초기화\n",
    "dp = [[0] * (M+1) for _ in range(N+1)]\n",
    "\n",
    "# arr 누적합 구하여 dp 배열에 저장\n",
    "# arr[i-1][j-1]: 현재 위치의 원본 배열 값\n",
    "# dp[i][j-1]: 현재 위치의 왼쪽 칸까지의 누적 합\n",
    "# dp[i-1][j]: 현재 위치의 위쪽 칸까지의 누적 합\n",
    "# dp[i-1][j-1]: 현재 위치의 왼쪽 위 대각선 칸까지의 누적 합. 중복된 부분을 빼기 위함\n",
    "for i in range(1, N+1):\n",
    "    for j in range(1, M+1):\n",
    "        dp[i][j] = arr[i-1][j-1] + dp[i][j-1] + dp[i-1][j] - dp[i-1][j-1]\n",
    "        \n",
    "K = int(input())\n",
    "for _ in range(K):\n",
    "    i, j, x, y = map(int, input().split())\n",
    "    print(dp[x][y] - dp[x][j-1] - dp[i-1][y] + dp[i-1][j-1])"
   ]
  },
  {
   "cell_type": "markdown",
   "id": "60d8ae45-8a55-4fea-aa8c-25f812d7baa9",
   "metadata": {},
   "source": [
    "## 2003. 수들의 합 2"
   ]
  },
  {
   "cell_type": "code",
   "execution_count": null,
   "id": "09abf6fd-79ec-48b1-9e3d-8a22f7e77b4b",
   "metadata": {},
   "outputs": [],
   "source": [
    "import sys\n",
    "input = sys.stdin.readline\n",
    "\n",
    "# 입력 받기\n",
    "N, M = map(int, input().split())\n",
    "A = list(map(int, input().split()))\n",
    "\n",
    "# 변수 초기화\n",
    "answer = 0\n",
    "start, end = 0, 1\n",
    "\n",
    "while start <= end and end <= N:\n",
    "    # 현재 부분합 계산\n",
    "    total = sum(A[start:end])\n",
    "    \n",
    "    # 합이 목표값 M보다 작으면 end 포인터 우측으로 이동\n",
    "    if total < M:\n",
    "        end += 1\n",
    "        \n",
    "    # 합이 목표값 M보다 크면 start 포인터 우측으로 이동\n",
    "    elif total > M:\n",
    "        start += 1\n",
    "        \n",
    "    # 합이 목표값 M과 동일하면 정답 추가 후 end 포인터 우측으로 이동\n",
    "    else:\n",
    "        answer += 1\n",
    "        end += 1\n",
    "        \n",
    "print(answer)"
   ]
  },
  {
   "cell_type": "markdown",
   "id": "2fbf1fdd-a07f-49e2-b383-371dcedb9363",
   "metadata": {},
   "source": [
    "## 11727. 2×n 타일링 2"
   ]
  },
  {
   "cell_type": "code",
   "execution_count": null,
   "id": "de92a785-bcc3-4cc5-abbd-654238674f97",
   "metadata": {},
   "outputs": [],
   "source": [
    "# 입력 받기\n",
    "n = int(input())\n",
    "\n",
    "# DP를 위한 배열 초기화\n",
    "dp = [0] * 1001\n",
    "dp[1] = 1\n",
    "dp[2] = 3\n",
    "dp[3] = 5\n",
    "\n",
    "# 점화식에 따라 배열 채우기\n",
    "for i in range(4, n+1):\n",
    "    dp[i] = (dp[i-1] + 2 * dp[i-2]) % 10007\n",
    "\n",
    "print(dp[n])"
   ]
  },
  {
   "cell_type": "markdown",
   "id": "ba29ce29-51c2-42d1-9070-a53a5316a994",
   "metadata": {},
   "source": [
    "# 2024-05-26"
   ]
  },
  {
   "cell_type": "markdown",
   "id": "5b54a2f9-3da3-4662-8fe8-29f15e9d8161",
   "metadata": {},
   "source": [
    "## 11728. 배열 합치기"
   ]
  },
  {
   "cell_type": "code",
   "execution_count": null,
   "id": "83491e49-9cc9-421c-aa93-aa35a9163887",
   "metadata": {},
   "outputs": [],
   "source": [
    "import sys\n",
    "input = sys.stdin.readline\n",
    "\n",
    "# 입력 받기\n",
    "N, M = map(int, input().split())\n",
    "\n",
    "# 정답 변수 초기화\n",
    "answer = []\n",
    "\n",
    "# 두 개의 배열을 입력받아 정답 리스트에 추가\n",
    "for _ in range(2):\n",
    "    answer += list(map(int, input().split()))\n",
    "    \n",
    "# 오름차순 정렬\n",
    "answer.sort()\n",
    "\n",
    "print(*answer)"
   ]
  },
  {
   "cell_type": "code",
   "execution_count": null,
   "id": "17ea5f5a-170c-4ace-b9ce-5a41bf942fad",
   "metadata": {},
   "outputs": [],
   "source": [
    "import sys\n",
    "import heapq\n",
    "input = sys.stdin.readline\n",
    "\n",
    "# 입력 받기\n",
    "N, M = map(int, input().split())\n",
    "A = list(map(int, input().split()))\n",
    "B = list(map(int, input().split()))\n",
    "\n",
    "# 두 배열을 합쳐서 새로운 리스트 answer 초기화\n",
    "answer = A + B\n",
    "\n",
    "# answer를 힙으로 변환\n",
    "heapq.heapify(answer)\n",
    "    \n",
    "# 힙에서 원소 하나씩 출력\n",
    "for i in range(N+M):\n",
    "    print(heapq.heappop(answer), end=' ')"
   ]
  },
  {
   "cell_type": "markdown",
   "id": "0ad78295-d31f-4e0f-ac8d-9c9e033ade6d",
   "metadata": {},
   "source": [
    "## 10610. 30"
   ]
  },
  {
   "cell_type": "code",
   "execution_count": null,
   "id": "f6cae690-a5ee-42d4-893c-831daf8b2305",
   "metadata": {},
   "outputs": [],
   "source": [
    "N = input()\n",
    "\n",
    "# 10의 배수가 아닐 경우 -1\n",
    "if '0' not in N:\n",
    "    print(-1)\n",
    "\n",
    "else:\n",
    "    # 자리수 합계 total 구하기\n",
    "    total = 0\n",
    "    for i in range(len(N)):\n",
    "        total += int(N[i])\n",
    "        \n",
    "    # 자리수의 합이 3의 배수일 경우 30의 배수 가능\n",
    "    if total % 3 == 0:\n",
    "        answer = sorted(N, reverse=True)\n",
    "        print(''.join(answer))\n",
    "        \n",
    "    # 자리수의 합이 3의 배수가 아닐 경우 30의 배수 불가능\n",
    "    else:\n",
    "        print(-1)"
   ]
  }
 ],
 "metadata": {
  "kernelspec": {
   "display_name": "self1",
   "language": "python",
   "name": "self1"
  },
  "language_info": {
   "codemirror_mode": {
    "name": "ipython",
    "version": 3
   },
   "file_extension": ".py",
   "mimetype": "text/x-python",
   "name": "python",
   "nbconvert_exporter": "python",
   "pygments_lexer": "ipython3",
   "version": "3.7.16"
  }
 },
 "nbformat": 4,
 "nbformat_minor": 5
}
