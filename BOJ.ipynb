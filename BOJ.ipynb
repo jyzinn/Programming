{
 "cells": [
  {
   "cell_type": "markdown",
   "id": "c3e5d761-22a7-45ef-92da-811bce27ac23",
   "metadata": {},
   "source": [
    "# BOJ 2605번 줄 세우기"
   ]
  },
  {
   "cell_type": "code",
   "execution_count": null,
   "id": "71ae87c8-8a6f-461d-9d75-6965be2953df",
   "metadata": {},
   "outputs": [],
   "source": [
    "import sys\n",
    "input = sys.stdin.readline\n",
    "\n",
    "N = int(input())\n",
    "L = list(map(int, input().split()))\n",
    "\n",
    "nums = []\n",
    "for i in range(N):\n",
    "    nums.insert(L[i], i+1)\n",
    "    \n",
    "for num in nums[::-1]:\n",
    "    print(num, end=' ')"
   ]
  },
  {
   "cell_type": "markdown",
   "id": "7d80a1fc-ea87-4bef-a81a-8845bbf8846b",
   "metadata": {
    "tags": []
   },
   "source": [
    "# BOJ 1919번 애너그램 만들기"
   ]
  },
  {
   "cell_type": "code",
   "execution_count": null,
   "id": "8a818efb-8469-424d-bff8-3890c334411c",
   "metadata": {},
   "outputs": [],
   "source": [
    "A = input()\n",
    "B = input()\n",
    "\n",
    "alphabet = [0] * 26\n",
    "\n",
    "for a in A:\n",
    "    alphabet[ord(a) - ord('a')] += 1\n",
    "\n",
    "for b in B:\n",
    "    alphabet[ord(b) - ord('a')] -= 1\n",
    "    \n",
    "answer = sum(abs(cnt) for cnt in alphabet)\n",
    "\n",
    "print(answer)"
   ]
  },
  {
   "cell_type": "markdown",
   "id": "732f7bbc-2b6e-46be-b0c9-af414f4df3f6",
   "metadata": {},
   "source": [
    "# BOJ 11655번 ROT13"
   ]
  },
  {
   "cell_type": "code",
   "execution_count": null,
   "id": "2ed21faf-f7c7-4cc3-ad4b-b693498068f2",
   "metadata": {},
   "outputs": [],
   "source": [
    "S = input()\n",
    "answer = ''\n",
    "\n",
    "for char in S:\n",
    "    if 'a' <= char <= 'z':\n",
    "        answer += chr((ord(char) - ord('a') - 13) % 26 + ord('a'))\n",
    "    elif 'A' <= char <= 'Z':\n",
    "        answer += chr((ord(char) - ord('A') - 13) % 26 + ord('A'))\n",
    "    else:\n",
    "        answer += char\n",
    "        \n",
    "print(answer)"
   ]
  }
 ],
 "metadata": {
  "kernelspec": {
   "display_name": "self1",
   "language": "python",
   "name": "self1"
  },
  "language_info": {
   "codemirror_mode": {
    "name": "ipython",
    "version": 3
   },
   "file_extension": ".py",
   "mimetype": "text/x-python",
   "name": "python",
   "nbconvert_exporter": "python",
   "pygments_lexer": "ipython3",
   "version": "3.7.16"
  }
 },
 "nbformat": 4,
 "nbformat_minor": 5
}
