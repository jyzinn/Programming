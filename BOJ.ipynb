{
 "cells": [
  {
   "cell_type": "markdown",
   "id": "d5c69036-7c0a-4c86-9bab-415d315a05d2",
   "metadata": {},
   "source": [
    "# 2024-05-11"
   ]
  },
  {
   "cell_type": "markdown",
   "id": "c3e5d761-22a7-45ef-92da-811bce27ac23",
   "metadata": {},
   "source": [
    "## BOJ 2605번 줄 세우기"
   ]
  },
  {
   "cell_type": "code",
   "execution_count": null,
   "id": "71ae87c8-8a6f-461d-9d75-6965be2953df",
   "metadata": {},
   "outputs": [],
   "source": [
    "import sys\n",
    "input = sys.stdin.readline\n",
    "\n",
    "N = int(input())\n",
    "L = list(map(int, input().split()))\n",
    "\n",
    "nums = []\n",
    "for i in range(N):\n",
    "    nums.insert(L[i], i+1)\n",
    "    \n",
    "for num in nums[::-1]:\n",
    "    print(num, end=' ')"
   ]
  },
  {
   "cell_type": "markdown",
   "id": "7d80a1fc-ea87-4bef-a81a-8845bbf8846b",
   "metadata": {
    "tags": []
   },
   "source": [
    "## BOJ 1919번 애너그램 만들기"
   ]
  },
  {
   "cell_type": "code",
   "execution_count": null,
   "id": "8a818efb-8469-424d-bff8-3890c334411c",
   "metadata": {},
   "outputs": [],
   "source": [
    "A = input()\n",
    "B = input()\n",
    "\n",
    "alphabet = [0] * 26\n",
    "\n",
    "for a in A:\n",
    "    alphabet[ord(a) - ord('a')] += 1\n",
    "\n",
    "for b in B:\n",
    "    alphabet[ord(b) - ord('a')] -= 1\n",
    "    \n",
    "answer = sum(abs(cnt) for cnt in alphabet)\n",
    "\n",
    "print(answer)"
   ]
  },
  {
   "cell_type": "markdown",
   "id": "732f7bbc-2b6e-46be-b0c9-af414f4df3f6",
   "metadata": {},
   "source": [
    "## BOJ 11655번 ROT13"
   ]
  },
  {
   "cell_type": "code",
   "execution_count": null,
   "id": "2ed21faf-f7c7-4cc3-ad4b-b693498068f2",
   "metadata": {},
   "outputs": [],
   "source": [
    "S = input()\n",
    "answer = ''\n",
    "\n",
    "for char in S:\n",
    "    if 'a' <= char <= 'z':\n",
    "        answer += chr((ord(char) - ord('a') - 13) % 26 + ord('a'))\n",
    "    elif 'A' <= char <= 'Z':\n",
    "        answer += chr((ord(char) - ord('A') - 13) % 26 + ord('A'))\n",
    "    else:\n",
    "        answer += char\n",
    "        \n",
    "print(answer)"
   ]
  },
  {
   "cell_type": "markdown",
   "id": "2fb5efc0-2fe8-4a3b-82f4-a585c48b289d",
   "metadata": {},
   "source": [
    "# 2024-05-12"
   ]
  },
  {
   "cell_type": "markdown",
   "id": "ae9e21fa-189c-480c-91ae-cbdad39a54be",
   "metadata": {
    "tags": []
   },
   "source": [
    "## BOJ 2592번 대표값"
   ]
  },
  {
   "cell_type": "code",
   "execution_count": null,
   "id": "9cdda16c-6fce-4e23-940c-9a59e8ae7fdd",
   "metadata": {},
   "outputs": [],
   "source": [
    "import sys\n",
    "input = sys.stdin.readline\n",
    "\n",
    "D = {}\n",
    "sum_of_inputs = 0\n",
    "\n",
    "for _ in range(10):\n",
    "    num = int(input())\n",
    "    sum_of_inputs += num  \n",
    "    D[num] = D.get(num, 0) + 1  \n",
    "\n",
    "max_value = max(D.values())\n",
    "mode_keys = [key for key, value in D.items() if value == max_value]\n",
    "  \n",
    "print(sum_of_inputs // 10)\n",
    "print(mode_keys[0])"
   ]
  },
  {
   "cell_type": "markdown",
   "id": "6e9ba7c6-6026-4a3d-bb12-d646f03c8a0d",
   "metadata": {},
   "source": [
    "## BOJ 10804번 카드 역배치"
   ]
  },
  {
   "cell_type": "code",
   "execution_count": null,
   "id": "732bd2a0-4ad6-49da-83a5-97de7de5d4be",
   "metadata": {},
   "outputs": [],
   "source": [
    "import sys\n",
    "input = sys.stdin.readline\n",
    "\n",
    "L = [i for i in range(1, 21)]\n",
    "\n",
    "for _ in range(10):\n",
    "    a, b = map(int, input().split())\n",
    "    L[a-1:b] = L[a-1:b][::-1]\n",
    "    \n",
    "print(*L)"
   ]
  },
  {
   "cell_type": "markdown",
   "id": "a2c9b675-ecf8-4344-929c-24e3dff0e3a2",
   "metadata": {},
   "source": [
    "## BOJ 1373번 2진수 8진수"
   ]
  },
  {
   "cell_type": "code",
   "execution_count": null,
   "id": "183f960e-a1da-4811-964d-497b4c05f6e2",
   "metadata": {},
   "outputs": [],
   "source": [
    "binary_input = int(input(), 2)\n",
    "print(oct(binary_input)[2:])"
   ]
  }
 ],
 "metadata": {
  "kernelspec": {
   "display_name": "self1",
   "language": "python",
   "name": "self1"
  },
  "language_info": {
   "codemirror_mode": {
    "name": "ipython",
    "version": 3
   },
   "file_extension": ".py",
   "mimetype": "text/x-python",
   "name": "python",
   "nbconvert_exporter": "python",
   "pygments_lexer": "ipython3",
   "version": "3.7.16"
  }
 },
 "nbformat": 4,
 "nbformat_minor": 5
}
