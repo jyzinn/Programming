{
 "cells": [
  {
   "cell_type": "markdown",
   "id": "fca5ac5d-1c2e-4af8-8dc3-b1de4af9ddb7",
   "metadata": {
    "jp-MarkdownHeadingCollapsed": true,
    "tags": []
   },
   "source": [
    "# 2024-06-19"
   ]
  },
  {
   "cell_type": "markdown",
   "id": "dc3993a7-ec12-43aa-8c74-8c8e0dcf5ca2",
   "metadata": {},
   "source": [
    "## 두 개 뽑아서 더하기\n",
    "https://school.programmers.co.kr/learn/courses/30/lessons/68644"
   ]
  },
  {
   "cell_type": "code",
   "execution_count": 1,
   "id": "f49a547b-50a1-412a-ae3b-6fab6f6cbc13",
   "metadata": {
    "tags": []
   },
   "outputs": [],
   "source": [
    "def solution(numbers):\n",
    "    # 중복 제거를 위해 집합 사용\n",
    "    answer = set()\n",
    "    \n",
    "    for i in range(len(numbers)):\n",
    "        for j in range(i+1, len(numbers)):\n",
    "            # 모든 조합의 합을 구하여 추가\n",
    "            answer.add(numbers[i]+numbers[j])\n",
    "    \n",
    "    # 집합을 리스트로 변환하고 정렬하여 반환\n",
    "    return sorted(answer)"
   ]
  },
  {
   "cell_type": "markdown",
   "id": "b2d8057d-30db-4130-92d3-870c79fbb68c",
   "metadata": {
    "jp-MarkdownHeadingCollapsed": true,
    "tags": []
   },
   "source": [
    "# 2024-06-20"
   ]
  },
  {
   "cell_type": "markdown",
   "id": "bca9fad5-87b4-4adf-9169-7d8cd461ec80",
   "metadata": {
    "tags": []
   },
   "source": [
    "## K번째 수\n",
    "https://school.programmers.co.kr/learn/courses/30/lessons/42748"
   ]
  },
  {
   "cell_type": "code",
   "execution_count": null,
   "id": "441f474d-9b71-4df8-a825-03ff709bf508",
   "metadata": {},
   "outputs": [],
   "source": [
    "def solution(array, commands):\n",
    "    answer = []\n",
    "    \n",
    "    for command in commands:\n",
    "        # command unapcking\n",
    "        i, j, k = command\n",
    "        \n",
    "        # slicing 후 sort\n",
    "        tmp = sorted(array[i-1:j])\n",
    "        \n",
    "        # k번째 요소를 answer에 추가\n",
    "        answer.append(tmp[k-1])\n",
    "        \n",
    "    return answer"
   ]
  },
  {
   "cell_type": "markdown",
   "id": "7085101b-17f8-44af-9281-c400731e0d45",
   "metadata": {
    "jp-MarkdownHeadingCollapsed": true,
    "tags": []
   },
   "source": [
    "# 2024-06-21"
   ]
  },
  {
   "cell_type": "markdown",
   "id": "334ea36e-e693-4acc-b96d-cb4b681a67d7",
   "metadata": {},
   "source": [
    "## 푸드 파이트 대회\n",
    "https://school.programmers.co.kr/learn/courses/30/lessons/134240"
   ]
  },
  {
   "cell_type": "code",
   "execution_count": null,
   "id": "1f79bde8-3c9a-44a9-9b7b-0bffabd05a90",
   "metadata": {},
   "outputs": [],
   "source": [
    "def solution(food):\n",
    "    # 정답 변수 초기화\n",
    "    answer = ''\n",
    "    \n",
    "    # 좌우 대칭 문자열의 절반을 저장할 변수 초기화\n",
    "    half = ''\n",
    "    \n",
    "    for i in range(1, len(food)):\n",
    "        # 음식의 수를 절반으로 나눈 몫 계산\n",
    "        cnt = food[i] // 2\n",
    "        \n",
    "        # 인덱스를 문자열로 변환하여 cnt만큼 반복하여 half에 추가\n",
    "        half += str(i)*cnt\n",
    "        \n",
    "    # 좌우 대칭 문자열을 생성하여 answer에 저장\n",
    "    answer = half + '0' + half[::-1]\n",
    "    return answer"
   ]
  },
  {
   "cell_type": "markdown",
   "id": "c19f3506-2578-4162-8b6b-97266ee563ed",
   "metadata": {},
   "source": [
    "# 2024-06-22"
   ]
  },
  {
   "cell_type": "markdown",
   "id": "13d2f330-9e49-4fd7-a694-31d9ab5fbec6",
   "metadata": {},
   "source": [
    "## [1차] 비밀지도\n",
    "https://school.programmers.co.kr/learn/courses/30/lessons/17681"
   ]
  },
  {
   "cell_type": "code",
   "execution_count": null,
   "id": "f98fcfd3-d15a-48e7-bf5f-160a95c6664a",
   "metadata": {},
   "outputs": [],
   "source": [
    "def solution(n, arr1, arr2):\n",
    "    # n개의 빈 문자열을 가진 정답 변수 초기화\n",
    "    answer = [''] * n  \n",
    "    \n",
    "    # arr의 각 요소를 이진수로 변환하고 길이를 n으로 맞춤\n",
    "    for i in range(n):\n",
    "        binary1 = format(arr1[i], 'b').zfill(n)\n",
    "        binary2 = format(arr2[i], 'b').zfill(n)\n",
    "        \n",
    "        # 각 줄의 결과를 저장할 리스트 초기화\n",
    "        result_row = []\n",
    "        \n",
    "        for j in range(n):\n",
    "            # 둘 중 하나라도 '1'이면 '#'을, 그렇지 않으면 공백을 추가\n",
    "            if binary1[j] == '1' or binary2[j] == '1':\n",
    "                result_row.append('#')\n",
    "            else:\n",
    "                result_row.append(' ')\n",
    "        \n",
    "        # 각 줄의 결과를 문자열로 변환하여 정답 리스트에 추가\n",
    "        answer[i] = ''.join(result_row)\n",
    "                \n",
    "    return answer"
   ]
  },
  {
   "cell_type": "markdown",
   "id": "136e6b25-2fe8-454a-a314-a0e4de0ac8d2",
   "metadata": {},
   "source": [
    "# 2024-06-24"
   ]
  },
  {
   "cell_type": "markdown",
   "id": "e7292933-3b5b-4ebb-b578-ff87fbc81158",
   "metadata": {},
   "source": [
    "## 콜라 문제\n",
    "https://school.programmers.co.kr/learn/courses/30/lessons/132267"
   ]
  },
  {
   "cell_type": "code",
   "execution_count": null,
   "id": "021263e0-7aa3-4838-aa26-79cbbb048f85",
   "metadata": {},
   "outputs": [],
   "source": [
    "def solution(a, b, n):\n",
    "    answer = 0\n",
    "    \n",
    "    while n >= a:\n",
    "        # a개의 배수로 마트에 주고 난 나머지\n",
    "        rest = n % a\n",
    "        \n",
    "        # a개의 배수만큼 마트에 주고 b 만큼 받기 (n 업데이트)\n",
    "        n = (n // a) * b\n",
    "        # 받은 개수인 n을 정답에 추가\n",
    "        answer += n\n",
    "        \n",
    "        # 기존에 계산한 나머지를 현재 물병 개수에 추가\n",
    "        n += rest\n",
    "        \n",
    "    return answer"
   ]
  },
  {
   "cell_type": "markdown",
   "id": "0cb17059-b4a7-4ba7-8067-d27c2f430cbe",
   "metadata": {},
   "source": [
    "## 점프와 순간 이동\n",
    "https://school.programmers.co.kr/learn/courses/30/lessons/12980"
   ]
  },
  {
   "cell_type": "code",
   "execution_count": null,
   "id": "c509c555-58f9-43e8-aaca-eaf29a9b267e",
   "metadata": {},
   "outputs": [],
   "source": [
    "def solution(n):\n",
    "    answer = 0\n",
    "    \n",
    "    while n > 1:\n",
    "        if n % 2 == 0:\n",
    "            n //= 2\n",
    "        else:\n",
    "            n -= 1\n",
    "        answer += 1\n",
    "    \n",
    "    return answer"
   ]
  },
  {
   "cell_type": "code",
   "execution_count": null,
   "id": "ce87b0b1-794e-457a-b7d9-9976d8af3611",
   "metadata": {},
   "outputs": [],
   "source": [
    "def solution(n):\n",
    "    answer = 0\n",
    "    \n",
    "    while n > 0:\n",
    "        q, r = divmod(n, 2)\n",
    "        \n",
    "        if r == 1:\n",
    "            answer += 1\n",
    "            \n",
    "        n = q\n",
    "        \n",
    "    return answer"
   ]
  },
  {
   "cell_type": "code",
   "execution_count": null,
   "id": "6de6f148-5dd6-40af-ab3d-956d0df1a868",
   "metadata": {},
   "outputs": [],
   "source": [
    "def solution(n):\n",
    "    return bin(n).count('1')"
   ]
  }
 ],
 "metadata": {
  "kernelspec": {
   "display_name": "self1",
   "language": "python",
   "name": "self1"
  },
  "language_info": {
   "codemirror_mode": {
    "name": "ipython",
    "version": 3
   },
   "file_extension": ".py",
   "mimetype": "text/x-python",
   "name": "python",
   "nbconvert_exporter": "python",
   "pygments_lexer": "ipython3",
   "version": "3.7.16"
  }
 },
 "nbformat": 4,
 "nbformat_minor": 5
}
