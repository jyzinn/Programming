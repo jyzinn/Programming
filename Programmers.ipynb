{
 "cells": [
  {
   "cell_type": "markdown",
   "id": "fca5ac5d-1c2e-4af8-8dc3-b1de4af9ddb7",
   "metadata": {
    "jp-MarkdownHeadingCollapsed": true,
    "tags": []
   },
   "source": [
    "# 2024-06-19"
   ]
  },
  {
   "cell_type": "markdown",
   "id": "dc3993a7-ec12-43aa-8c74-8c8e0dcf5ca2",
   "metadata": {},
   "source": [
    "## 두 개 뽑아서 더하기\n",
    "https://school.programmers.co.kr/learn/courses/30/lessons/68644"
   ]
  },
  {
   "cell_type": "code",
   "execution_count": 1,
   "id": "f49a547b-50a1-412a-ae3b-6fab6f6cbc13",
   "metadata": {
    "tags": []
   },
   "outputs": [],
   "source": [
    "def solution(numbers):\n",
    "    # 중복 제거를 위해 집합 사용\n",
    "    answer = set()\n",
    "    \n",
    "    for i in range(len(numbers)):\n",
    "        for j in range(i+1, len(numbers)):\n",
    "            # 모든 조합의 합을 구하여 추가\n",
    "            answer.add(numbers[i]+numbers[j])\n",
    "    \n",
    "    # 집합을 리스트로 변환하고 정렬하여 반환\n",
    "    return sorted(answer)"
   ]
  },
  {
   "cell_type": "markdown",
   "id": "b2d8057d-30db-4130-92d3-870c79fbb68c",
   "metadata": {
    "jp-MarkdownHeadingCollapsed": true,
    "tags": []
   },
   "source": [
    "# 2024-06-20"
   ]
  },
  {
   "cell_type": "markdown",
   "id": "bca9fad5-87b4-4adf-9169-7d8cd461ec80",
   "metadata": {
    "tags": []
   },
   "source": [
    "## K번째 수\n",
    "https://school.programmers.co.kr/learn/courses/30/lessons/42748"
   ]
  },
  {
   "cell_type": "code",
   "execution_count": null,
   "id": "441f474d-9b71-4df8-a825-03ff709bf508",
   "metadata": {},
   "outputs": [],
   "source": [
    "def solution(array, commands):\n",
    "    answer = []\n",
    "    \n",
    "    for command in commands:\n",
    "        # command unapcking\n",
    "        i, j, k = command\n",
    "        \n",
    "        # slicing 후 sort\n",
    "        tmp = sorted(array[i-1:j])\n",
    "        \n",
    "        # k번째 요소를 answer에 추가\n",
    "        answer.append(tmp[k-1])\n",
    "        \n",
    "    return answer"
   ]
  },
  {
   "cell_type": "markdown",
   "id": "7085101b-17f8-44af-9281-c400731e0d45",
   "metadata": {
    "jp-MarkdownHeadingCollapsed": true,
    "tags": []
   },
   "source": [
    "# 2024-06-21"
   ]
  },
  {
   "cell_type": "markdown",
   "id": "334ea36e-e693-4acc-b96d-cb4b681a67d7",
   "metadata": {},
   "source": [
    "## 푸드 파이트 대회\n",
    "https://school.programmers.co.kr/learn/courses/30/lessons/134240"
   ]
  },
  {
   "cell_type": "code",
   "execution_count": null,
   "id": "1f79bde8-3c9a-44a9-9b7b-0bffabd05a90",
   "metadata": {},
   "outputs": [],
   "source": [
    "def solution(food):\n",
    "    # 정답 변수 초기화\n",
    "    answer = ''\n",
    "    \n",
    "    # 좌우 대칭 문자열의 절반을 저장할 변수 초기화\n",
    "    half = ''\n",
    "    \n",
    "    for i in range(1, len(food)):\n",
    "        # 음식의 수를 절반으로 나눈 몫 계산\n",
    "        cnt = food[i] // 2\n",
    "        \n",
    "        # 인덱스를 문자열로 변환하여 cnt만큼 반복하여 half에 추가\n",
    "        half += str(i)*cnt\n",
    "        \n",
    "    # 좌우 대칭 문자열을 생성하여 answer에 저장\n",
    "    answer = half + '0' + half[::-1]\n",
    "    return answer"
   ]
  },
  {
   "cell_type": "markdown",
   "id": "c19f3506-2578-4162-8b6b-97266ee563ed",
   "metadata": {
    "jp-MarkdownHeadingCollapsed": true,
    "tags": []
   },
   "source": [
    "# 2024-06-22"
   ]
  },
  {
   "cell_type": "markdown",
   "id": "13d2f330-9e49-4fd7-a694-31d9ab5fbec6",
   "metadata": {},
   "source": [
    "## [1차] 비밀지도\n",
    "https://school.programmers.co.kr/learn/courses/30/lessons/17681"
   ]
  },
  {
   "cell_type": "code",
   "execution_count": null,
   "id": "f98fcfd3-d15a-48e7-bf5f-160a95c6664a",
   "metadata": {},
   "outputs": [],
   "source": [
    "def solution(n, arr1, arr2):\n",
    "    # n개의 빈 문자열을 가진 정답 변수 초기화\n",
    "    answer = [''] * n  \n",
    "    \n",
    "    # arr의 각 요소를 이진수로 변환하고 길이를 n으로 맞춤\n",
    "    for i in range(n):\n",
    "        binary1 = format(arr1[i], 'b').zfill(n)\n",
    "        binary2 = format(arr2[i], 'b').zfill(n)\n",
    "        \n",
    "        # 각 줄의 결과를 저장할 리스트 초기화\n",
    "        result_row = []\n",
    "        \n",
    "        for j in range(n):\n",
    "            # 둘 중 하나라도 '1'이면 '#'을, 그렇지 않으면 공백을 추가\n",
    "            if binary1[j] == '1' or binary2[j] == '1':\n",
    "                result_row.append('#')\n",
    "            else:\n",
    "                result_row.append(' ')\n",
    "        \n",
    "        # 각 줄의 결과를 문자열로 변환하여 정답 리스트에 추가\n",
    "        answer[i] = ''.join(result_row)\n",
    "                \n",
    "    return answer"
   ]
  },
  {
   "cell_type": "markdown",
   "id": "136e6b25-2fe8-454a-a314-a0e4de0ac8d2",
   "metadata": {
    "jp-MarkdownHeadingCollapsed": true,
    "tags": []
   },
   "source": [
    "# 2024-06-24"
   ]
  },
  {
   "cell_type": "markdown",
   "id": "e7292933-3b5b-4ebb-b578-ff87fbc81158",
   "metadata": {},
   "source": [
    "## 콜라 문제\n",
    "https://school.programmers.co.kr/learn/courses/30/lessons/132267"
   ]
  },
  {
   "cell_type": "code",
   "execution_count": null,
   "id": "021263e0-7aa3-4838-aa26-79cbbb048f85",
   "metadata": {},
   "outputs": [],
   "source": [
    "def solution(a, b, n):\n",
    "    answer = 0\n",
    "    \n",
    "    while n >= a:\n",
    "        # a개의 배수로 마트에 주고 난 나머지\n",
    "        rest = n % a\n",
    "        \n",
    "        # a개의 배수만큼 마트에 주고 b 만큼 받기 (n 업데이트)\n",
    "        n = (n // a) * b\n",
    "        # 받은 개수인 n을 정답에 추가\n",
    "        answer += n\n",
    "        \n",
    "        # 기존에 계산한 나머지를 현재 물병 개수에 추가\n",
    "        n += rest\n",
    "        \n",
    "    return answer"
   ]
  },
  {
   "cell_type": "markdown",
   "id": "0cb17059-b4a7-4ba7-8067-d27c2f430cbe",
   "metadata": {},
   "source": [
    "## 점프와 순간 이동\n",
    "https://school.programmers.co.kr/learn/courses/30/lessons/12980"
   ]
  },
  {
   "cell_type": "code",
   "execution_count": null,
   "id": "c509c555-58f9-43e8-aaca-eaf29a9b267e",
   "metadata": {},
   "outputs": [],
   "source": [
    "def solution(n):\n",
    "    answer = 0\n",
    "    \n",
    "    while n > 1:\n",
    "        if n % 2 == 0:\n",
    "            n //= 2\n",
    "        else:\n",
    "            n -= 1\n",
    "        answer += 1\n",
    "    \n",
    "    return answer"
   ]
  },
  {
   "cell_type": "code",
   "execution_count": null,
   "id": "ce87b0b1-794e-457a-b7d9-9976d8af3611",
   "metadata": {},
   "outputs": [],
   "source": [
    "def solution(n):\n",
    "    answer = 0\n",
    "    \n",
    "    while n > 0:\n",
    "        q, r = divmod(n, 2)\n",
    "        \n",
    "        if r == 1:\n",
    "            answer += 1\n",
    "            \n",
    "        n = q\n",
    "        \n",
    "    return answer"
   ]
  },
  {
   "cell_type": "code",
   "execution_count": null,
   "id": "6de6f148-5dd6-40af-ab3d-956d0df1a868",
   "metadata": {},
   "outputs": [],
   "source": [
    "def solution(n):\n",
    "    return bin(n).count('1')"
   ]
  },
  {
   "cell_type": "markdown",
   "id": "5bd7df3e-6a5e-41ef-9021-eda4a7a6b187",
   "metadata": {
    "jp-MarkdownHeadingCollapsed": true,
    "tags": []
   },
   "source": [
    "# 2024-06-28"
   ]
  },
  {
   "cell_type": "markdown",
   "id": "43a96435-c357-4406-a3c9-9466bda6a7b5",
   "metadata": {},
   "source": [
    "## 구명보트\n",
    "https://school.programmers.co.kr/learn/courses/30/lessons/42885"
   ]
  },
  {
   "cell_type": "code",
   "execution_count": null,
   "id": "c7416447-8178-4c9c-befe-c1775ee07ed3",
   "metadata": {},
   "outputs": [],
   "source": [
    "from collections import deque\n",
    "\n",
    "def solution(people, limit):\n",
    "    answer = 0\n",
    "    # 오름차순 정렬 후 deque로\n",
    "    people = deque(sorted(people))\n",
    "    \n",
    "    while len(people) > 1:\n",
    "        # 가장 가벼운 사람과 가장 무거운 사람의 무게 합이 제한 이하인 경우\n",
    "        # 둘 다 보트에 태우고 제외\n",
    "        if people[0] + people[-1] <= limit:\n",
    "            answer += 1\n",
    "            people.pop()\n",
    "            people.popleft()\n",
    "            \n",
    "        # 무게가 초과된다면 가장 무거운 사람만 태우고 보트 하나 사용\n",
    "        else:\n",
    "            answer += 1\n",
    "            people.pop()\n",
    "    \n",
    "    # 반복문 후 사람이 남아있을 경우 혼자 보트 사용\n",
    "    if people:\n",
    "        answer += 1\n",
    "        \n",
    "    return answer"
   ]
  },
  {
   "cell_type": "code",
   "execution_count": null,
   "id": "6574e9de-6780-4c1d-86d1-b9a7094b67b9",
   "metadata": {},
   "outputs": [],
   "source": [
    "def solution(people, limit):\n",
    "    answer = 0\n",
    "    # 사람들의 무게를 오름차순으로 정렬\n",
    "    people.sort()\n",
    "    \n",
    "    # 포인터 변수 초기화\n",
    "    a = 0  # 가장 가벼운 사람의 인덱스\n",
    "    b = len(people) - 1  # 가장 무거운 사람의 인덱스\n",
    "    \n",
    "    # a와 b가 같아질 때까지 반복\n",
    "    while a <= b:\n",
    "        # 가장 가벼운 사람과 가장 무거운 사람의 무게 합이 제한 이하인 경우\n",
    "        # 가장 가벼운 사람을 보트에 태우고 다음 사람으로 이동\n",
    "        if people[a] + people[b] <= limit:\n",
    "            a += 1 \n",
    "            \n",
    "        # 가장 무거운 사람을 보트에 태우고 다음 무거운 사람으로 이동    \n",
    "        b -= 1  \n",
    "        # 보트 하나 사용\n",
    "        answer += 1  \n",
    "    \n",
    "    return answer  # 사용된 보트의 총 수를 반환"
   ]
  },
  {
   "cell_type": "markdown",
   "id": "f435c9e7-0e11-48f9-983d-f716309957f7",
   "metadata": {},
   "source": [
    "## 명예의 전당 (1)\n",
    "https://school.programmers.co.kr/learn/courses/30/lessons/138477"
   ]
  },
  {
   "cell_type": "code",
   "execution_count": null,
   "id": "50117343-faeb-4b0f-adc4-88737255630b",
   "metadata": {},
   "outputs": [],
   "source": [
    "def solution(k, score):\n",
    "\t# 정답 변수 초기화\n",
    "    answer = []\n",
    "    \n",
    "    # 점수 저장할 임시 변수 초기화\n",
    "    tmp = []\n",
    "    \n",
    "    for i in range(len(score)):\n",
    "    \t# tmp에 score 추가\n",
    "        tmp.append(score[i])\n",
    "        \n",
    "        # tmp의 개수가 k를 초과할 경우\n",
    "        if len(tmp) > k:\n",
    "        \t# tmp에서 min값을 제외\n",
    "            min_value = min(tmp)\n",
    "            tmp.remove(min_value)\n",
    "        \n",
    "        # tmp의 min값을 정답 변수에 추가\n",
    "        answer.append(min(tmp))\n",
    "        \n",
    "    return answer"
   ]
  },
  {
   "cell_type": "markdown",
   "id": "a2b769a1-0627-4ae8-9ef8-4bfaaea1eb24",
   "metadata": {
    "jp-MarkdownHeadingCollapsed": true,
    "tags": []
   },
   "source": [
    "# 2024-07-02"
   ]
  },
  {
   "cell_type": "markdown",
   "id": "08187fd8-5235-4c96-94a2-958b1364aeff",
   "metadata": {},
   "source": [
    "## N개의 최소공배수\n",
    "https://school.programmers.co.kr/learn/courses/30/lessons/12953"
   ]
  },
  {
   "cell_type": "code",
   "execution_count": null,
   "id": "1a33ae6c-588d-40b6-aa64-308b6b1f8e34",
   "metadata": {},
   "outputs": [],
   "source": [
    "def solution(arr):\n",
    "    current_lcm = arr[0]\n",
    "    \n",
    "    # 배열의 두 번째 요소부터 마지막 요소까지 반복하면서 최소공배수를 계산\n",
    "    for i in range(1, len(arr)):\n",
    "        a, b = current_lcm, arr[i]\n",
    "        \n",
    "        # 유클리드 호제법으로 최대공약수 구하기\n",
    "        while b != 0:\n",
    "            a, b = b, a % b\n",
    "        gcd = a\n",
    "        \n",
    "        # 최대공약수를 이용하여 최소공배수 계산\n",
    "        current_lcm = current_lcm * arr[i] // gcd\n",
    "        \n",
    "    return current_lcm"
   ]
  },
  {
   "cell_type": "markdown",
   "id": "5bb594e5-0cf4-4c3f-b283-e245546a7105",
   "metadata": {
    "jp-MarkdownHeadingCollapsed": true,
    "tags": []
   },
   "source": [
    "# 2024-07-04"
   ]
  },
  {
   "cell_type": "markdown",
   "id": "38b8f5b8-3ce8-4ce0-8281-d3abbb0cb864",
   "metadata": {},
   "source": [
    "## 멀리뛰기\n",
    "https://school.programmers.co.kr/learn/courses/30/lessons/12914"
   ]
  },
  {
   "cell_type": "code",
   "execution_count": null,
   "id": "861dd2e3-ac8d-46d4-8ee2-78560921dad6",
   "metadata": {},
   "outputs": [],
   "source": [
    "def solution(n):\n",
    "    # DP를 위한 배열 초기화\n",
    "    dp = [0] * 2001\n",
    "    dp[1] = 1\n",
    "    dp[2] = 2\n",
    "    \n",
    "    # 점화식에 따라 배열 채우기\n",
    "    for i in range(3, n+1):\n",
    "        dp[i] = (dp[i-2] + dp[i-1]) % 1234567\n",
    "    \n",
    "    return dp[n]"
   ]
  },
  {
   "cell_type": "markdown",
   "id": "185d9c5f-8d68-4d09-9136-8bef5011e660",
   "metadata": {
    "jp-MarkdownHeadingCollapsed": true,
    "tags": []
   },
   "source": [
    "# 2024-07-07"
   ]
  },
  {
   "cell_type": "markdown",
   "id": "dda77dc9-a135-4620-b6bb-791c81872fbd",
   "metadata": {},
   "source": [
    "## 추억 점수\n",
    "https://school.programmers.co.kr/learn/courses/30/lessons/176963"
   ]
  },
  {
   "cell_type": "code",
   "execution_count": null,
   "id": "da90c642-04a0-443c-8376-fa74b4ce9488",
   "metadata": {},
   "outputs": [],
   "source": [
    "def solution(name, yearning, photo):\n",
    "    # 정답 변수 선언\n",
    "    answer = []\n",
    "    # 이름과 그리움 점수를 딕셔너리로\n",
    "    D = dict(zip(name, yearning))\n",
    "    \n",
    "    for people in photo:\n",
    "        # 사진별 점수를 합산할 임시 변수 초기화\n",
    "        tmp = 0\n",
    "        for person in people:\n",
    "            # 사람별 점수 더하기, 점수가 없다면 0\n",
    "            tmp += D.get(person, 0)\n",
    "        # 사진별 점수를 정답 변수에 추가\n",
    "        answer.append(tmp)\n",
    "        \n",
    "    return answer"
   ]
  },
  {
   "cell_type": "markdown",
   "id": "2d947881-a5f5-427e-9fc1-9cf56e6d2df1",
   "metadata": {
    "jp-MarkdownHeadingCollapsed": true,
    "tags": []
   },
   "source": [
    "# 2024-07-08"
   ]
  },
  {
   "cell_type": "markdown",
   "id": "d0e29e58-e139-416f-b46d-1dc41b5b0c73",
   "metadata": {},
   "source": [
    "## 카드 뭉치\n",
    "https://school.programmers.co.kr/learn/courses/30/lessons/159994"
   ]
  },
  {
   "cell_type": "code",
   "execution_count": null,
   "id": "f163588f-5312-4d7c-8d8c-8d95f764f14c",
   "metadata": {},
   "outputs": [],
   "source": [
    "def solution(cards1, cards2, goal):\n",
    "    answer = ''\n",
    "    \n",
    "    for char in goal:\n",
    "        # cards1이 비어있지 않고, 첫번째 문자와 char가 동일하면\n",
    "        if cards1 and char == cards1[0]:\n",
    "            # cards1의 첫번째 문자를 pop하고 answer에 추가\n",
    "            answer += cards1.pop(0)\n",
    "            \n",
    "        # cards2이 비어있지 않고, 첫번째 문자와 char가 동일하면\n",
    "        elif cards2 and char == cards2[0]:\n",
    "            # cards2의 첫번째 문자를 pop하고 answer에 추가\n",
    "            answer += cards2.pop(0)\n",
    "            \n",
    "        # 두 리스트 모두 첫 번째 문자가 목표 문자와 일치하지 않으면 'NO'를 반환\n",
    "        else:\n",
    "            return 'No'\n",
    "    # 반복문이 정상적으로 끝났다면 목표 문자열이 완성됨\n",
    "    return 'Yes'"
   ]
  },
  {
   "cell_type": "markdown",
   "id": "987f6b9f-70f9-44e7-aaf6-314ea958a959",
   "metadata": {},
   "source": [
    "# 2024-08-03"
   ]
  },
  {
   "cell_type": "markdown",
   "id": "ac2a7819-2769-4d9a-a094-b8c98ad6d537",
   "metadata": {},
   "source": [
    "## 영어 끝말잇기\n",
    "https://school.programmers.co.kr/learn/courses/30/lessons/12981"
   ]
  },
  {
   "cell_type": "code",
   "execution_count": null,
   "id": "e3164bf2-87de-4fb9-907e-3dc4344fd6e2",
   "metadata": {},
   "outputs": [],
   "source": [
    "def solution(n, words):\n",
    "    # 단어가 중복되었는지 확인할 리스트\n",
    "    tmp = []\n",
    "    \n",
    "    # 첫 단어의 첫 문자로 시작\n",
    "    last_char = words[0][0]\n",
    "    \n",
    "    for i in range(len(words)):\n",
    "        # 현재 단어가 중복되었거나, \n",
    "        # 이전 단어의 마지막 문자와 현재 단어의 첫 문자가 일치하지 않는 경우\n",
    "        if (words[i] in tmp) or (words[i][0] != last_char):\n",
    "            # 플레이어 번호와 턴을 계산하여 반환\n",
    "            return [i % n + 1, i // n + 1]\n",
    "        \n",
    "        # 현재 단어를 tmp 리스트에 추가하여 중복 검사에 사용\n",
    "        tmp.append(words[i])\n",
    "        \n",
    "        # 마지막 문자를 현재 단어의 마지막 문자로 업데이트\n",
    "        last_char = words[i][-1]\n",
    "        \n",
    "    # 모든 단어가 유효한 경우 [0, 0]을 반환\n",
    "    return [0, 0]"
   ]
  }
 ],
 "metadata": {
  "kernelspec": {
   "display_name": "self1",
   "language": "python",
   "name": "self1"
  },
  "language_info": {
   "codemirror_mode": {
    "name": "ipython",
    "version": 3
   },
   "file_extension": ".py",
   "mimetype": "text/x-python",
   "name": "python",
   "nbconvert_exporter": "python",
   "pygments_lexer": "ipython3",
   "version": "3.7.16"
  }
 },
 "nbformat": 4,
 "nbformat_minor": 5
}
