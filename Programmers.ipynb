{
 "cells": [
  {
   "cell_type": "markdown",
   "id": "fca5ac5d-1c2e-4af8-8dc3-b1de4af9ddb7",
   "metadata": {},
   "source": [
    "# 2024-06-19"
   ]
  },
  {
   "cell_type": "markdown",
   "id": "dc3993a7-ec12-43aa-8c74-8c8e0dcf5ca2",
   "metadata": {},
   "source": [
    "## 두 개 뽑아서 더하기\n",
    "https://school.programmers.co.kr/learn/courses/30/lessons/68644"
   ]
  },
  {
   "cell_type": "code",
   "execution_count": 1,
   "id": "f49a547b-50a1-412a-ae3b-6fab6f6cbc13",
   "metadata": {
    "tags": []
   },
   "outputs": [],
   "source": [
    "def solution(numbers):\n",
    "    # 중복 제거를 위해 집합 사용\n",
    "    answer = set()\n",
    "    \n",
    "    for i in range(len(numbers)):\n",
    "        for j in range(i+1, len(numbers)):\n",
    "            # 모든 조합의 합을 구하여 추가\n",
    "            answer.add(numbers[i]+numbers[j])\n",
    "    \n",
    "    # 집합을 리스트로 변환하고 정렬하여 반환\n",
    "    return sorted(answer)"
   ]
  },
  {
   "cell_type": "markdown",
   "id": "b2d8057d-30db-4130-92d3-870c79fbb68c",
   "metadata": {
    "tags": []
   },
   "source": [
    "# 2024-06-20"
   ]
  },
  {
   "cell_type": "markdown",
   "id": "bca9fad5-87b4-4adf-9169-7d8cd461ec80",
   "metadata": {
    "tags": []
   },
   "source": [
    "## K번째 수\n",
    "https://school.programmers.co.kr/learn/courses/30/lessons/42748"
   ]
  },
  {
   "cell_type": "code",
   "execution_count": null,
   "id": "441f474d-9b71-4df8-a825-03ff709bf508",
   "metadata": {},
   "outputs": [],
   "source": [
    "def solution(array, commands):\n",
    "    answer = []\n",
    "    \n",
    "    for command in commands:\n",
    "        # command unapcking\n",
    "        i, j, k = command\n",
    "        \n",
    "        # slicing 후 sort\n",
    "        tmp = sorted(array[i-1:j])\n",
    "        \n",
    "        # k번째 요소를 answer에 추가\n",
    "        answer.append(tmp[k-1])\n",
    "        \n",
    "    return answer"
   ]
  }
 ],
 "metadata": {
  "kernelspec": {
   "display_name": "self1",
   "language": "python",
   "name": "self1"
  },
  "language_info": {
   "codemirror_mode": {
    "name": "ipython",
    "version": 3
   },
   "file_extension": ".py",
   "mimetype": "text/x-python",
   "name": "python",
   "nbconvert_exporter": "python",
   "pygments_lexer": "ipython3",
   "version": "3.7.16"
  }
 },
 "nbformat": 4,
 "nbformat_minor": 5
}
